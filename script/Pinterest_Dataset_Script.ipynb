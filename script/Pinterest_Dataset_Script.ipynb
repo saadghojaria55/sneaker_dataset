{
  "nbformat": 4,
  "nbformat_minor": 0,
  "metadata": {
    "colab": {
      "provenance": []
    },
    "kernelspec": {
      "name": "python3",
      "display_name": "Python 3"
    },
    "language_info": {
      "name": "python"
    }
  },
  "cells": [
    {
      "cell_type": "code",
      "source": [
        "pip install pydotmap"
      ],
      "metadata": {
        "colab": {
          "base_uri": "https://localhost:8080/"
        },
        "id": "oBW4FN3Gi8Ym",
        "outputId": "aa779c8f-a196-4814-c0c6-a965ad8e2506"
      },
      "execution_count": 2,
      "outputs": [
        {
          "output_type": "stream",
          "name": "stdout",
          "text": [
            "Looking in indexes: https://pypi.org/simple, https://us-python.pkg.dev/colab-wheels/public/simple/\n",
            "Collecting pydotmap\n",
            "  Downloading pydotmap-0.1.3-py3-none-any.whl (4.1 kB)\n",
            "Installing collected packages: pydotmap\n",
            "Successfully installed pydotmap-0.1.3\n"
          ]
        }
      ]
    },
    {
      "cell_type": "code",
      "execution_count": 3,
      "metadata": {
        "colab": {
          "base_uri": "https://localhost:8080/"
        },
        "id": "BA74bkjfiFlb",
        "outputId": "53ffd311-c1e5-4798-f0e8-70ba4d5060f8"
      },
      "outputs": [
        {
          "output_type": "stream",
          "name": "stdout",
          "text": [
            "Enter keyword: Sneaker head\n",
            "[+] starting search ...\n",
            "[+] saving results ...\n",
            "[+] saving json data ...\n",
            "[+] saving image urls ...\n",
            "[+] Total 240 files available to download.\n",
            "\n"
          ]
        },
        {
          "output_type": "stream",
          "name": "stderr",
          "text": [
            "\n",
            "\n",
            "\n",
            "\n",
            "\n",
            "  0%|          | 0/24 [00:00<?, ?it/s]\u001b[A\u001b[A\u001b[A\u001b[A\u001b[A\n",
            "\n",
            "\n",
            "\n",
            "  0%|          | 0/24 [00:00<?, ?it/s]\u001b[A\u001b[A\u001b[A\u001b[A\n",
            "\n",
            "\n",
            "  0%|          | 0/24 [00:00<?, ?it/s]\u001b[A\u001b[A\u001b[A\n",
            "  0%|          | 0/24 [00:00<?, ?it/s]\u001b[A\n",
            "\n",
            "  0%|          | 0/24 [00:00<?, ?it/s]\n",
            "\n",
            "\n",
            "\n",
            "\n",
            "\n",
            "  0%|          | 0/24 [00:00<?, ?it/s]\u001b[A\u001b[A\u001b[A\u001b[A\u001b[A\u001b[A\n",
            "\n",
            "\n",
            "\n",
            "\n",
            "\n",
            "\n",
            "  0%|          | 0/24 [00:00<?, ?it/s]\u001b[A\u001b[A\u001b[A\u001b[A\u001b[A\u001b[A\u001b[A\n",
            "\n",
            "\n",
            "\n",
            "\n",
            "\n",
            "\n",
            "\n",
            "  0%|          | 0/24 [00:00<?, ?it/s]\u001b[A\u001b[A\u001b[A\u001b[A\u001b[A\u001b[A\u001b[A\u001b[A\n",
            "\n",
            "\n",
            "\n",
            "\n",
            "\n",
            "\n",
            "\n",
            "\n",
            "  0%|          | 0/24 [00:00<?, ?it/s]\u001b[A\u001b[A\u001b[A\u001b[A\u001b[A\u001b[A\u001b[A\u001b[A\u001b[A\n",
            "  4%|▍         | 1/24 [00:00<00:08,  2.86it/s]\n",
            "\n",
            "\n",
            "\n",
            "\n",
            "  4%|▍         | 1/24 [00:00<00:09,  2.40it/s]\u001b[A\u001b[A\u001b[A\u001b[A\u001b[A\n",
            "\n",
            "\n",
            "\n",
            "\n",
            "\n",
            "\n",
            "\n",
            "  4%|▍         | 1/24 [00:00<00:07,  2.96it/s]\u001b[A\u001b[A\u001b[A\u001b[A\u001b[A\u001b[A\u001b[A\u001b[A\n",
            "\n",
            "\n",
            "\n",
            "\n",
            "\n",
            "\n",
            "\n",
            "\n",
            "  4%|▍         | 1/24 [00:00<00:07,  3.25it/s]\u001b[A\u001b[A\u001b[A\u001b[A\u001b[A\u001b[A\u001b[A\u001b[A\u001b[A"
          ]
        },
        {
          "output_type": "stream",
          "name": "stdout",
          "text": [
            "\r\r\r\r\r"
          ]
        },
        {
          "output_type": "stream",
          "name": "stderr",
          "text": [
            "\n",
            "\n",
            "\n",
            "\n",
            "\n",
            "\n",
            "\n",
            "  4%|▍         | 1/24 [00:00<00:12,  1.85it/s]\u001b[A\u001b[A\u001b[A\u001b[A\u001b[A\u001b[A\u001b[A\n",
            "\n",
            "\n",
            "\n",
            "  4%|▍         | 1/24 [00:00<00:15,  1.51it/s]\u001b[A\u001b[A\u001b[A\u001b[A\n",
            "\n",
            "\n",
            "  4%|▍         | 1/24 [00:00<00:15,  1.52it/s]\u001b[A\u001b[A\u001b[A\n",
            "\n",
            "\n",
            "\n",
            "\n",
            "\n",
            "  4%|▍         | 1/24 [00:00<00:16,  1.39it/s]\u001b[A\u001b[A\u001b[A\u001b[A\u001b[A\u001b[A"
          ]
        },
        {
          "output_type": "stream",
          "name": "stdout",
          "text": [
            "\r\r\r\r"
          ]
        },
        {
          "output_type": "stream",
          "name": "stderr",
          "text": [
            "\n",
            "\n",
            "\n",
            "\n",
            "\n",
            "  8%|▊         | 2/24 [00:00<00:10,  2.14it/s]\u001b[A\u001b[A\u001b[A\u001b[A\u001b[A\n",
            "  8%|▊         | 2/24 [00:00<00:10,  2.03it/s]\u001b[A\n",
            "\n",
            "\n",
            "\n",
            "\n",
            "\n",
            "\n",
            "\n",
            "\n",
            "  8%|▊         | 2/24 [00:00<00:09,  2.43it/s]\u001b[A\u001b[A\u001b[A\u001b[A\u001b[A\u001b[A\u001b[A\u001b[A\u001b[A\n",
            "\n",
            "\n",
            "\n",
            "  8%|▊         | 2/24 [00:01<00:10,  2.01it/s]\u001b[A\u001b[A\u001b[A\u001b[A"
          ]
        },
        {
          "output_type": "stream",
          "name": "stdout",
          "text": [
            "\r\r\r\r"
          ]
        },
        {
          "output_type": "stream",
          "name": "stderr",
          "text": [
            "\r  8%|▊         | 2/24 [00:01<00:12,  1.72it/s]\n",
            "\n",
            "\n",
            "\n",
            "\n",
            "\n",
            "\n",
            "\n",
            "  8%|▊         | 2/24 [00:01<00:11,  1.84it/s]\u001b[A\u001b[A\u001b[A\u001b[A\u001b[A\u001b[A\u001b[A\u001b[A\n",
            "\n",
            "\n",
            "\n",
            "\n",
            "\n",
            "  8%|▊         | 2/24 [00:01<00:11,  1.95it/s]\u001b[A\u001b[A\u001b[A\u001b[A\u001b[A\u001b[A\n",
            "\n",
            "\n",
            "\n",
            "\n",
            "\n",
            "\n",
            "  8%|▊         | 2/24 [00:01<00:12,  1.69it/s]\u001b[A\u001b[A\u001b[A\u001b[A\u001b[A\u001b[A\u001b[A\n",
            "\n",
            "\n"
          ]
        },
        {
          "output_type": "stream",
          "name": "stdout",
          "text": [
            "\r\r\r\r\r"
          ]
        },
        {
          "output_type": "stream",
          "name": "stderr",
          "text": [
            "\r  8%|▊         | 2/24 [00:01<00:14,  1.53it/s]\u001b[A\u001b[A\u001b[A\n",
            "\n",
            "\n",
            "\n",
            " 12%|█▎        | 3/24 [00:01<00:08,  2.40it/s]\u001b[A\u001b[A\u001b[A\u001b[A\n",
            "\n",
            "\n",
            "\n",
            "\n",
            " 12%|█▎        | 3/24 [00:01<00:10,  1.98it/s]\u001b[A\u001b[A\u001b[A\u001b[A\u001b[A\n",
            " 12%|█▎        | 3/24 [00:01<00:11,  1.89it/s]\u001b[A"
          ]
        },
        {
          "output_type": "stream",
          "name": "stdout",
          "text": [
            "\r\r\r"
          ]
        },
        {
          "output_type": "stream",
          "name": "stderr",
          "text": [
            "\n",
            "\n",
            "\n",
            "\n",
            "\n",
            "\n",
            "\n",
            "\n",
            "\n",
            " 12%|█▎        | 3/24 [00:01<00:10,  1.95it/s]\u001b[A\u001b[A\u001b[A\u001b[A\u001b[A\u001b[A\u001b[A\u001b[A\u001b[A\n",
            "\n",
            "\n",
            "\n",
            "\n",
            "\n",
            " 12%|█▎        | 3/24 [00:01<00:09,  2.14it/s]\u001b[A\u001b[A\u001b[A\u001b[A\u001b[A\u001b[A"
          ]
        },
        {
          "output_type": "stream",
          "name": "stdout",
          "text": [
            "\r\r"
          ]
        },
        {
          "output_type": "stream",
          "name": "stderr",
          "text": [
            "\n",
            "\n",
            "\n",
            "\n",
            " 17%|█▋        | 4/24 [00:01<00:08,  2.26it/s]\u001b[A\u001b[A\u001b[A\u001b[A\n",
            "\n",
            "\n",
            "\n",
            "\n",
            " 17%|█▋        | 4/24 [00:01<00:09,  2.13it/s]\u001b[A\u001b[A\u001b[A\u001b[A\u001b[A\n",
            "\n",
            "\n",
            "\n",
            "\n",
            "\n",
            "\n",
            " 12%|█▎        | 3/24 [00:01<00:14,  1.45it/s]\n",
            "\n",
            "\n",
            "\n",
            "\n",
            "\n",
            "\n",
            "\n",
            " 12%|█▎        | 3/24 [00:01<00:14,  1.47it/s]\u001b[A\u001b[A\u001b[A\u001b[A\u001b[A\u001b[A\u001b[A\u001b[A"
          ]
        },
        {
          "output_type": "stream",
          "name": "stdout",
          "text": [
            "\r\r\r\r\r"
          ]
        },
        {
          "output_type": "stream",
          "name": "stderr",
          "text": [
            "\n",
            " 17%|█▋        | 4/24 [00:02<00:10,  1.89it/s]\u001b[A\n",
            "\n",
            "\n",
            "\n",
            "\n",
            "\n",
            "\n",
            "\n",
            "\n",
            " 17%|█▋        | 4/24 [00:01<00:10,  1.98it/s]\u001b[A\u001b[A\u001b[A\u001b[A\u001b[A\u001b[A\u001b[A\u001b[A\u001b[A\n",
            "\n",
            "\n",
            "\n",
            "\n",
            "\n",
            " 17%|█▋        | 4/24 [00:02<00:09,  2.00it/s]\u001b[A\u001b[A\u001b[A\u001b[A\u001b[A\u001b[A\n",
            "\n",
            "\n",
            " 12%|█▎        | 3/24 [00:02<00:16,  1.30it/s]\u001b[A\u001b[A\u001b[A"
          ]
        },
        {
          "output_type": "stream",
          "name": "stdout",
          "text": [
            "\r\r\r\r"
          ]
        },
        {
          "output_type": "stream",
          "name": "stderr",
          "text": [
            "\n",
            "\n",
            "\n",
            "\n",
            "\n",
            "\n",
            "\n",
            " 17%|█▋        | 4/24 [00:02<00:10,  1.84it/s]\u001b[A\u001b[A\u001b[A\u001b[A\u001b[A\u001b[A\u001b[A\n",
            "\n",
            "\n",
            "\n",
            "\n",
            "\n",
            "\n",
            "\n",
            "\n",
            " 21%|██        | 5/24 [00:02<00:08,  2.15it/s]\u001b[A\u001b[A\u001b[A\u001b[A\u001b[A\u001b[A\u001b[A\u001b[A\u001b[A"
          ]
        },
        {
          "output_type": "stream",
          "name": "stdout",
          "text": [
            "\r\r"
          ]
        },
        {
          "output_type": "stream",
          "name": "stderr",
          "text": [
            "\n",
            "\n",
            "\n",
            "\n",
            "\n",
            "\n",
            "\n",
            "\n",
            " 17%|█▋        | 4/24 [00:02<00:12,  1.57it/s]\u001b[A\u001b[A\u001b[A\u001b[A\u001b[A\u001b[A\u001b[A\u001b[A\n",
            "\n",
            "\n",
            "\n",
            "\n",
            " 21%|██        | 5/24 [00:02<00:10,  1.79it/s]\u001b[A\u001b[A\u001b[A\u001b[A\u001b[A\n",
            " 21%|██        | 5/24 [00:02<00:10,  1.86it/s]\u001b[A\n",
            "\n",
            "\n",
            " 17%|█▋        | 4/24 [00:02<00:13,  1.54it/s]\u001b[A\u001b[A\u001b[A\n",
            "\n",
            "\n",
            "\n",
            "\n",
            "\n",
            "\n",
            " 21%|██        | 5/24 [00:02<00:09,  2.10it/s]\u001b[A\u001b[A\u001b[A\u001b[A\u001b[A\u001b[A\u001b[A"
          ]
        },
        {
          "output_type": "stream",
          "name": "stdout",
          "text": [
            "\r\r\r\r\r"
          ]
        },
        {
          "output_type": "stream",
          "name": "stderr",
          "text": [
            "\n",
            "\n",
            "\n",
            "\n",
            "\n",
            "\n",
            "\n",
            "\n",
            "\n",
            " 25%|██▌       | 6/24 [00:02<00:07,  2.32it/s]\u001b[A\u001b[A\u001b[A\u001b[A\u001b[A\u001b[A\u001b[A\u001b[A\u001b[A\n",
            "\n",
            "\n",
            "\n",
            " 17%|█▋        | 4/24 [00:02<00:16,  1.23it/s]\n",
            "\n",
            "\n",
            "\n",
            "\n",
            "\n",
            " 21%|██        | 5/24 [00:02<00:11,  1.60it/s]\u001b[A\u001b[A\u001b[A\u001b[A\u001b[A\u001b[A\n",
            "\n",
            "\n",
            "\n",
            "\n",
            "\n",
            "\n",
            "\n"
          ]
        },
        {
          "output_type": "stream",
          "name": "stdout",
          "text": [
            "\r\r\r\r\r"
          ]
        },
        {
          "output_type": "stream",
          "name": "stderr",
          "text": [
            " 21%|██        | 5/24 [00:02<00:10,  1.74it/s]\u001b[A\u001b[A\u001b[A\u001b[A\u001b[A\u001b[A\u001b[A\u001b[A\n",
            " 25%|██▌       | 6/24 [00:03<00:09,  1.86it/s]\u001b[A\n",
            "\n",
            "\n",
            "\n",
            "\n",
            " 25%|██▌       | 6/24 [00:03<00:10,  1.76it/s]\u001b[A\u001b[A\u001b[A\u001b[A\u001b[A\n",
            "\n",
            "\n",
            " 21%|██        | 5/24 [00:03<00:11,  1.65it/s]\u001b[A\u001b[A\u001b[A\n",
            "\n",
            "\n",
            "\n",
            "\n",
            "\n",
            "\n",
            "\n",
            "\n",
            " 21%|██        | 5/24 [00:03<00:12,  1.52it/s]"
          ]
        },
        {
          "output_type": "stream",
          "name": "stdout",
          "text": [
            "\r\r\r\r\r"
          ]
        },
        {
          "output_type": "stream",
          "name": "stderr",
          "text": [
            "\n",
            "\n",
            "  4%|▍         | 1/24 [00:03<01:16,  3.35s/it]\u001b[A\u001b[A\n",
            "\n",
            "\n",
            "\n",
            "\n",
            "\n",
            "\n",
            " 25%|██▌       | 6/24 [00:03<00:09,  1.85it/s]\u001b[A\u001b[A\u001b[A\u001b[A\u001b[A\u001b[A\u001b[A\n",
            "\n",
            "\n",
            "\n",
            " 25%|██▌       | 6/24 [00:03<00:11,  1.58it/s]\u001b[A\u001b[A\u001b[A\u001b[A\n",
            " 29%|██▉       | 7/24 [00:03<00:08,  2.06it/s]\u001b[A"
          ]
        },
        {
          "output_type": "stream",
          "name": "stdout",
          "text": [
            "\r\r\r\r"
          ]
        },
        {
          "output_type": "stream",
          "name": "stderr",
          "text": [
            "\n",
            "\n",
            "\n",
            "\n",
            "\n",
            "\n",
            " 25%|██▌       | 6/24 [00:03<00:11,  1.63it/s]\u001b[A\u001b[A\u001b[A\u001b[A\u001b[A\u001b[A\n",
            "\n",
            "\n",
            "\n",
            "\n",
            "\n",
            "\n",
            "\n",
            " 25%|██▌       | 6/24 [00:03<00:10,  1.74it/s]\u001b[A\u001b[A\u001b[A\u001b[A\u001b[A\u001b[A\u001b[A\u001b[A\n",
            "\n",
            "\n",
            "\n",
            "\n",
            " 25%|██▌       | 6/24 [00:03<00:10,  1.79it/s]"
          ]
        },
        {
          "output_type": "stream",
          "name": "stdout",
          "text": [
            "\r\r\r\r"
          ]
        },
        {
          "output_type": "stream",
          "name": "stderr",
          "text": [
            "\n",
            "\n",
            "\n",
            " 25%|██▌       | 6/24 [00:03<00:11,  1.62it/s]\u001b[A\u001b[A\u001b[A\n",
            "\n",
            "  8%|▊         | 2/24 [00:03<00:37,  1.70s/it]\u001b[A\u001b[A\n",
            "\n",
            "\n",
            "\n",
            " 29%|██▉       | 7/24 [00:04<00:10,  1.63it/s]\u001b[A\u001b[A\u001b[A\u001b[A"
          ]
        },
        {
          "output_type": "stream",
          "name": "stdout",
          "text": [
            "\r\r\r"
          ]
        },
        {
          "output_type": "stream",
          "name": "stderr",
          "text": [
            "\r 29%|██▉       | 7/24 [00:04<00:08,  1.97it/s]\n",
            "\n",
            "\n",
            "\n",
            "\n",
            "\n",
            "\n",
            "\n",
            "\n",
            " 33%|███▎      | 8/24 [00:04<00:09,  1.70it/s]\u001b[A\u001b[A\u001b[A\u001b[A\u001b[A\u001b[A\u001b[A\u001b[A\u001b[A\n",
            "\n",
            "\n",
            "\n",
            "\n",
            " 33%|███▎      | 8/24 [00:04<00:08,  1.79it/s]\u001b[A\u001b[A\u001b[A\u001b[A\u001b[A\n",
            "\n",
            "\n",
            " 29%|██▉       | 7/24 [00:04<00:09,  1.84it/s]\u001b[A\u001b[A\u001b[A"
          ]
        },
        {
          "output_type": "stream",
          "name": "stdout",
          "text": [
            "\r\r\r\r"
          ]
        },
        {
          "output_type": "stream",
          "name": "stderr",
          "text": [
            "\n",
            "\n",
            "\n",
            "\n",
            "\n",
            "\n",
            " 29%|██▉       | 7/24 [00:04<00:11,  1.53it/s]\u001b[A\u001b[A\u001b[A\u001b[A\u001b[A\u001b[A\n",
            "\n",
            " 12%|█▎        | 3/24 [00:04<00:23,  1.14s/it]\u001b[A\u001b[A\n",
            " 33%|███▎      | 8/24 [00:04<00:09,  1.62it/s]\u001b[A"
          ]
        },
        {
          "output_type": "stream",
          "name": "stdout",
          "text": [
            "\r\r\r"
          ]
        },
        {
          "output_type": "stream",
          "name": "stderr",
          "text": [
            "\n",
            "\n",
            "\n",
            "\n",
            "\n",
            "\n",
            "\n",
            "\n",
            "\n",
            " 38%|███▊      | 9/24 [00:04<00:07,  1.94it/s]\u001b[A\u001b[A\u001b[A\u001b[A\u001b[A\u001b[A\u001b[A\u001b[A\u001b[A\n",
            "\n",
            "\n",
            "\n",
            " 33%|███▎      | 8/24 [00:04<00:08,  1.90it/s]"
          ]
        },
        {
          "output_type": "stream",
          "name": "stdout",
          "text": [
            "\r\r\r"
          ]
        },
        {
          "output_type": "stream",
          "name": "stderr",
          "text": [
            "\n",
            " 38%|███▊      | 9/24 [00:04<00:08,  1.85it/s]\u001b[A\n",
            "\n",
            "\n",
            "\n",
            " 38%|███▊      | 9/24 [00:04<00:07,  1.99it/s]\u001b[A\u001b[A\u001b[A\u001b[A\n",
            "\n",
            "\n",
            "\n",
            "\n",
            " 38%|███▊      | 9/24 [00:04<00:09,  1.64it/s]\u001b[A\u001b[A\u001b[A\u001b[A\u001b[A"
          ]
        },
        {
          "output_type": "stream",
          "name": "stdout",
          "text": [
            "\r\r\r\r"
          ]
        },
        {
          "output_type": "stream",
          "name": "stderr",
          "text": [
            "\n",
            "\n",
            "\n",
            " 33%|███▎      | 8/24 [00:04<00:09,  1.65it/s]\u001b[A\u001b[A\u001b[A\n",
            "\n",
            "\n",
            "\n",
            "\n",
            "\n",
            "\n",
            "\n",
            "\n",
            " 42%|████▏     | 10/24 [00:04<00:07,  1.94it/s]\u001b[A\u001b[A\u001b[A\u001b[A\u001b[A\u001b[A\u001b[A\u001b[A\u001b[A\n",
            "\n",
            "\n",
            "\n",
            "\n",
            "\n",
            " 33%|███▎      | 8/24 [00:05<00:11,  1.40it/s]\u001b[A\u001b[A\u001b[A\u001b[A\u001b[A\u001b[A\n",
            "\n",
            "\n",
            "\n"
          ]
        },
        {
          "output_type": "stream",
          "name": "stdout",
          "text": [
            "\r\r\r"
          ]
        },
        {
          "output_type": "stream",
          "name": "stderr",
          "text": [
            " 42%|████▏     | 10/24 [00:05<00:06,  2.16it/s]\u001b[A\u001b[A\u001b[A\u001b[A\n",
            " 42%|████▏     | 10/24 [00:05<00:07,  1.87it/s]\u001b[A\n",
            "\n",
            " 17%|█▋        | 4/24 [00:05<00:22,  1.11s/it]\u001b[A\u001b[A"
          ]
        },
        {
          "output_type": "stream",
          "name": "stdout",
          "text": [
            "\r\r"
          ]
        },
        {
          "output_type": "stream",
          "name": "stderr",
          "text": [
            "\r 38%|███▊      | 9/24 [00:05<00:10,  1.46it/s]\n",
            "\n",
            "\n",
            "\n",
            "\n",
            "\n",
            " 38%|███▊      | 9/24 [00:05<00:09,  1.52it/s]\u001b[A\u001b[A\u001b[A\u001b[A\u001b[A\u001b[A\n",
            "\n",
            "\n",
            " 38%|███▊      | 9/24 [00:05<00:09,  1.53it/s]\u001b[A\u001b[A\u001b[A\n",
            "\n",
            "\n",
            "\n",
            "\n",
            "\n",
            "\n",
            "\n",
            "\n",
            " 46%|████▌     | 11/24 [00:05<00:07,  1.76it/s]\u001b[A\u001b[A\u001b[A\u001b[A\u001b[A\u001b[A\u001b[A\u001b[A\u001b[A\n",
            "\n",
            "\n",
            "\n",
            "\n",
            " 42%|████▏     | 10/24 [00:05<00:09,  1.49it/s]"
          ]
        },
        {
          "output_type": "stream",
          "name": "stdout",
          "text": [
            "\r\r\r\r\r"
          ]
        },
        {
          "output_type": "stream",
          "name": "stderr",
          "text": [
            "\u001b[A\u001b[A\u001b[A\u001b[A\u001b[A\n",
            "\n",
            " 21%|██        | 5/24 [00:05<00:17,  1.12it/s]\u001b[A\u001b[A\n",
            " 46%|████▌     | 11/24 [00:06<00:07,  1.64it/s]\u001b[A"
          ]
        },
        {
          "output_type": "stream",
          "name": "stdout",
          "text": [
            "\r\r\r"
          ]
        },
        {
          "output_type": "stream",
          "name": "stderr",
          "text": [
            "\n",
            "\n",
            "\n",
            "\n",
            "\n",
            "\n",
            " 42%|████▏     | 10/24 [00:06<00:08,  1.66it/s]\u001b[A\u001b[A\u001b[A\u001b[A\u001b[A\u001b[A\n",
            "\n",
            "\n",
            " 42%|████▏     | 10/24 [00:06<00:09,  1.51it/s]"
          ]
        },
        {
          "output_type": "stream",
          "name": "stdout",
          "text": [
            "\r\r"
          ]
        },
        {
          "output_type": "stream",
          "name": "stderr",
          "text": [
            "\n",
            "\n",
            "\n",
            "\n",
            " 46%|████▌     | 11/24 [00:06<00:08,  1.48it/s]\u001b[A\u001b[A\u001b[A\u001b[A\n",
            "\n",
            "\n",
            "\n",
            "\n",
            "\n",
            "\n",
            "\n",
            "\n",
            " 50%|█████     | 12/24 [00:06<00:07,  1.64it/s]\u001b[A\u001b[A\u001b[A\u001b[A\u001b[A\u001b[A\u001b[A\u001b[A\u001b[A\n",
            " 50%|█████     | 12/24 [00:06<00:06,  1.75it/s]\u001b[A"
          ]
        },
        {
          "output_type": "stream",
          "name": "stdout",
          "text": [
            "\r\r\r"
          ]
        },
        {
          "output_type": "stream",
          "name": "stderr",
          "text": [
            "\n",
            "\n",
            " 25%|██▌       | 6/24 [00:06<00:15,  1.16it/s]\u001b[A\u001b[A"
          ]
        },
        {
          "output_type": "stream",
          "name": "stdout",
          "text": [
            "\r"
          ]
        },
        {
          "output_type": "stream",
          "name": "stderr",
          "text": [
            "\n",
            "\n",
            "\n",
            "\n",
            "\n",
            " 46%|████▌     | 11/24 [00:07<00:10,  1.18it/s]\u001b[A\u001b[A\u001b[A\u001b[A\u001b[A\n",
            "\n",
            "\n",
            "\n",
            "\n",
            "\n",
            " 46%|████▌     | 11/24 [00:06<00:08,  1.46it/s]\u001b[A\u001b[A\u001b[A\u001b[A\u001b[A\u001b[A\n",
            "\n",
            "\n",
            "\n",
            " 50%|█████     | 12/24 [00:07<00:08,  1.50it/s]\u001b[A\u001b[A\u001b[A\u001b[A\n",
            " 54%|█████▍    | 13/24 [00:07<00:06,  1.77it/s]\u001b[A\n",
            "\n",
            "\n",
            "\n",
            "\n",
            "\n",
            "\n",
            "\n",
            "\n",
            " 54%|█████▍    | 13/24 [00:07<00:07,  1.53it/s]\u001b[A\u001b[A\u001b[A\u001b[A\u001b[A\u001b[A\u001b[A\u001b[A\u001b[A"
          ]
        },
        {
          "output_type": "stream",
          "name": "stdout",
          "text": [
            "\r\r\r\r\r"
          ]
        },
        {
          "output_type": "stream",
          "name": "stderr",
          "text": [
            "\n",
            "\n",
            "\n",
            " 46%|████▌     | 11/24 [00:07<00:10,  1.27it/s]\u001b[A\u001b[A\u001b[A\n",
            "\n",
            " 29%|██▉       | 7/24 [00:07<00:14,  1.17it/s]\u001b[A\u001b[A\n",
            "\n",
            "\n",
            "\n",
            "\n",
            " 50%|█████     | 12/24 [00:07<00:09,  1.30it/s]\u001b[A\u001b[A\u001b[A\u001b[A\u001b[A"
          ]
        },
        {
          "output_type": "stream",
          "name": "stdout",
          "text": [
            "\r\r\r"
          ]
        },
        {
          "output_type": "stream",
          "name": "stderr",
          "text": [
            "\n",
            "\n",
            "\n",
            "\n",
            "\n",
            "\n",
            "\n",
            "\n",
            "\n",
            " 58%|█████▊    | 14/24 [00:07<00:06,  1.44it/s]\u001b[A\u001b[A\u001b[A\u001b[A\u001b[A\u001b[A\u001b[A\u001b[A\u001b[A\n",
            "\n",
            "\n",
            "\n",
            "\n",
            "\n",
            " 50%|█████     | 12/24 [00:07<00:09,  1.29it/s]\u001b[A\u001b[A\u001b[A\u001b[A\u001b[A\u001b[A"
          ]
        },
        {
          "output_type": "stream",
          "name": "stdout",
          "text": [
            "\r\r"
          ]
        },
        {
          "output_type": "stream",
          "name": "stderr",
          "text": [
            "\n",
            "\n",
            " 33%|███▎      | 8/24 [00:08<00:13,  1.18it/s]\u001b[A\u001b[A\n",
            "\n",
            "\n",
            "\n",
            "\n",
            " 54%|█████▍    | 13/24 [00:08<00:09,  1.21it/s]\u001b[A\u001b[A\u001b[A\u001b[A\u001b[A"
          ]
        },
        {
          "output_type": "stream",
          "name": "stdout",
          "text": [
            "\r\r"
          ]
        },
        {
          "output_type": "stream",
          "name": "stderr",
          "text": [
            "\n",
            " 58%|█████▊    | 14/24 [00:08<00:08,  1.14it/s]\u001b[A\n",
            "\n",
            "\n",
            " 50%|█████     | 12/24 [00:08<00:11,  1.07it/s]\u001b[A\u001b[A\u001b[A\n",
            "\n",
            "\n",
            "\n",
            " 54%|█████▍    | 13/24 [00:08<00:10,  1.03it/s]\u001b[A\u001b[A\u001b[A\u001b[A\n",
            "\n",
            "\n",
            "\n",
            "\n",
            "\n",
            "\n",
            "\n",
            "\n",
            " 62%|██████▎   | 15/24 [00:08<00:06,  1.33it/s]\u001b[A\u001b[A\u001b[A\u001b[A\u001b[A\u001b[A\u001b[A\u001b[A\u001b[A"
          ]
        },
        {
          "output_type": "stream",
          "name": "stdout",
          "text": [
            "\r\r\r\r"
          ]
        },
        {
          "output_type": "stream",
          "name": "stderr",
          "text": [
            "\n",
            "\n",
            " 38%|███▊      | 9/24 [00:09<00:12,  1.24it/s]\u001b[A\u001b[A"
          ]
        },
        {
          "output_type": "stream",
          "name": "stdout",
          "text": [
            "\r"
          ]
        },
        {
          "output_type": "stream",
          "name": "stderr",
          "text": [
            "\n",
            "\n",
            "\n",
            "\n",
            "\n",
            "\n",
            " 54%|█████▍    | 13/24 [00:09<00:10,  1.07it/s]\u001b[A\u001b[A\u001b[A\u001b[A\u001b[A\u001b[A"
          ]
        },
        {
          "output_type": "stream",
          "name": "stdout",
          "text": [
            "\r"
          ]
        },
        {
          "output_type": "stream",
          "name": "stderr",
          "text": [
            "\n",
            "\n",
            "\n",
            "\n",
            "\n",
            " 58%|█████▊    | 14/24 [00:09<00:08,  1.12it/s]\u001b[A\u001b[A\u001b[A\u001b[A\u001b[A\n",
            " 62%|██████▎   | 15/24 [00:09<00:08,  1.12it/s]\u001b[A\n",
            "\n",
            "\n",
            "\n",
            "\n",
            "\n",
            "\n",
            " 29%|██▉       | 7/24 [00:09<00:41,  2.44s/it]\u001b[A\u001b[A\u001b[A\u001b[A\u001b[A\u001b[A\u001b[A\n",
            "\n",
            "\n",
            "\n",
            " 58%|█████▊    | 14/24 [00:09<00:09,  1.01it/s]\u001b[A\u001b[A\u001b[A\u001b[A"
          ]
        },
        {
          "output_type": "stream",
          "name": "stdout",
          "text": [
            "\r\r\r\r"
          ]
        },
        {
          "output_type": "stream",
          "name": "stderr",
          "text": [
            "\n",
            " 67%|██████▋   | 16/24 [00:10<00:05,  1.35it/s]\u001b[A\n",
            "\n",
            " 42%|████▏     | 10/24 [00:10<00:11,  1.20it/s]\u001b[A\u001b[A"
          ]
        },
        {
          "output_type": "stream",
          "name": "stdout",
          "text": [
            "\r\r"
          ]
        },
        {
          "output_type": "stream",
          "name": "stderr",
          "text": [
            "\n",
            " 71%|███████   | 17/24 [00:10<00:04,  1.51it/s]\u001b[A\n",
            "\n",
            "\n",
            "\n",
            "\n",
            " 62%|██████▎   | 15/24 [00:10<00:08,  1.09it/s]\u001b[A\u001b[A\u001b[A\u001b[A\u001b[A\n",
            "\n",
            "\n",
            "\n",
            "\n",
            "\n",
            " 58%|█████▊    | 14/24 [00:10<00:10,  1.03s/it]\u001b[A\u001b[A\u001b[A\u001b[A\u001b[A\u001b[A"
          ]
        },
        {
          "output_type": "stream",
          "name": "stdout",
          "text": [
            "\r\r\r"
          ]
        },
        {
          "output_type": "stream",
          "name": "stderr",
          "text": [
            "\n",
            "\n",
            "\n",
            "\n",
            "\n",
            "\n",
            "\n",
            "\n",
            "\n",
            " 67%|██████▋   | 16/24 [00:10<00:08,  1.09s/it]\u001b[A\u001b[A\u001b[A\u001b[A\u001b[A\u001b[A\u001b[A\u001b[A\u001b[A\n",
            "\n",
            "\n",
            "\n",
            " 62%|██████▎   | 15/24 [00:10<00:09,  1.02s/it]\u001b[A\u001b[A\u001b[A\u001b[A\n",
            "\n",
            "\n",
            "\n",
            "\n",
            "\n",
            "\n",
            " 33%|███▎      | 8/24 [00:10<00:32,  2.02s/it]\u001b[A\u001b[A\u001b[A\u001b[A\u001b[A\u001b[A\u001b[A"
          ]
        },
        {
          "output_type": "stream",
          "name": "stdout",
          "text": [
            "\r\r\r"
          ]
        },
        {
          "output_type": "stream",
          "name": "stderr",
          "text": [
            "\n",
            "\n",
            "\n",
            "\n",
            "\n",
            "\n",
            "\n",
            " 38%|███▊      | 9/24 [00:11<00:22,  1.52s/it]\u001b[A\u001b[A\u001b[A\u001b[A\u001b[A\u001b[A\u001b[A\n",
            "\n",
            "\n",
            "\n",
            "\n",
            " 67%|██████▋   | 16/24 [00:11<00:06,  1.16it/s]\u001b[A\u001b[A\u001b[A\u001b[A\u001b[A"
          ]
        },
        {
          "output_type": "stream",
          "name": "stdout",
          "text": [
            "\r\r"
          ]
        },
        {
          "output_type": "stream",
          "name": "stderr",
          "text": [
            "\n",
            "\n",
            " 46%|████▌     | 11/24 [00:11<00:13,  1.02s/it]\u001b[A\u001b[A\n",
            "\n",
            "\n",
            "\n",
            "\n",
            "\n",
            "\n",
            "\n",
            "\n",
            " 71%|███████   | 17/24 [00:11<00:06,  1.01it/s]\u001b[A\u001b[A\u001b[A\u001b[A\u001b[A\u001b[A\u001b[A\u001b[A\u001b[A\n",
            "\n",
            "\n",
            "\n",
            "\n",
            "\n",
            " 62%|██████▎   | 15/24 [00:11<00:09,  1.03s/it]\u001b[A\u001b[A\u001b[A\u001b[A\u001b[A\u001b[A\n",
            "\n",
            "\n",
            "\n",
            "\n",
            "\n",
            "\n",
            " 42%|████▏     | 10/24 [00:11<00:16,  1.16s/it]\u001b[A\u001b[A\u001b[A\u001b[A\u001b[A\u001b[A\u001b[A"
          ]
        },
        {
          "output_type": "stream",
          "name": "stdout",
          "text": [
            "\r\r\r\r"
          ]
        },
        {
          "output_type": "stream",
          "name": "stderr",
          "text": [
            "\n",
            "\n",
            "\n",
            " 46%|████▌     | 11/24 [00:11<00:27,  2.15s/it]\n",
            " 75%|███████▌  | 18/24 [00:11<00:05,  1.14it/s]\u001b[A"
          ]
        },
        {
          "output_type": "stream",
          "name": "stdout",
          "text": [
            "\r\r\r"
          ]
        },
        {
          "output_type": "stream",
          "name": "stderr",
          "text": [
            "\n",
            "\n",
            "\n",
            "\n",
            "\n",
            "\n",
            "\n",
            "\n",
            " 29%|██▉       | 7/24 [00:11<00:52,  3.12s/it]\u001b[A\u001b[A\u001b[A\u001b[A\u001b[A\u001b[A\u001b[A\u001b[A\n",
            "\n",
            "\n",
            "\n",
            "\n",
            " 71%|███████   | 17/24 [00:12<00:05,  1.24it/s]\u001b[A\u001b[A\u001b[A\u001b[A\u001b[A\n",
            "\n",
            "\n",
            "\n",
            "\n",
            "\n",
            "\n",
            "\n",
            "\n",
            " 75%|███████▌  | 18/24 [00:11<00:05,  1.16it/s]\u001b[A\u001b[A\u001b[A\u001b[A\u001b[A\u001b[A\u001b[A\u001b[A\u001b[A\n",
            "\n",
            "\n",
            "\n",
            " 50%|█████     | 12/24 [00:12<00:19,  1.59s/it]"
          ]
        },
        {
          "output_type": "stream",
          "name": "stdout",
          "text": [
            "\r\r\r\r\r"
          ]
        },
        {
          "output_type": "stream",
          "name": "stderr",
          "text": [
            "\n",
            "\n",
            "\n",
            "\n",
            "\n",
            "\n",
            " 67%|██████▋   | 16/24 [00:12<00:07,  1.08it/s]\u001b[A\u001b[A\u001b[A\u001b[A\u001b[A\u001b[A\n",
            "\n",
            "\n",
            "\n",
            "\n",
            "\n",
            "\n",
            " 46%|████▌     | 11/24 [00:12<00:13,  1.03s/it]\u001b[A\u001b[A\u001b[A\u001b[A\u001b[A\u001b[A\u001b[A\n",
            "\n",
            " 50%|█████     | 12/24 [00:12<00:11,  1.02it/s]\u001b[A\u001b[A\n",
            "\n",
            "\n",
            " 58%|█████▊    | 14/24 [00:12<00:12,  1.29s/it]\u001b[A\u001b[A\u001b[A"
          ]
        },
        {
          "output_type": "stream",
          "name": "stdout",
          "text": [
            "\r\r\r\r"
          ]
        },
        {
          "output_type": "stream",
          "name": "stderr",
          "text": [
            "\n",
            " 79%|███████▉  | 19/24 [00:12<00:03,  1.25it/s]\u001b[A\n",
            "\n",
            "\n",
            "\n",
            "\n",
            "\n",
            "\n",
            "\n",
            " 33%|███▎      | 8/24 [00:12<00:37,  2.32s/it]\u001b[A\u001b[A\u001b[A\u001b[A\u001b[A\u001b[A\u001b[A\u001b[A"
          ]
        },
        {
          "output_type": "stream",
          "name": "stdout",
          "text": [
            "\r\r"
          ]
        },
        {
          "output_type": "stream",
          "name": "stderr",
          "text": [
            "\n",
            "\n",
            "\n",
            "\n",
            "\n",
            "\n",
            "\n",
            " 50%|█████     | 12/24 [00:12<00:10,  1.19it/s]\u001b[A\u001b[A\u001b[A\u001b[A\u001b[A\u001b[A\u001b[A\n",
            "\n",
            " 54%|█████▍    | 13/24 [00:12<00:09,  1.20it/s]\u001b[A\u001b[A\n",
            "\n",
            "\n",
            "\n",
            " 71%|███████   | 17/24 [00:12<00:06,  1.00it/s]\u001b[A\u001b[A\u001b[A\u001b[A\n",
            "\n",
            "\n",
            "\n",
            "\n",
            " 75%|███████▌  | 18/24 [00:12<00:04,  1.21it/s]\u001b[A\u001b[A\u001b[A\u001b[A\u001b[A\n",
            " 83%|████████▎ | 20/24 [00:12<00:02,  1.47it/s]\u001b[A"
          ]
        },
        {
          "output_type": "stream",
          "name": "stdout",
          "text": [
            "\r\r\r\r\r"
          ]
        },
        {
          "output_type": "stream",
          "name": "stderr",
          "text": [
            "\n",
            "\n",
            "\n",
            "\n",
            "\n",
            "\n",
            " 71%|███████   | 17/24 [00:12<00:06,  1.15it/s]\u001b[A\u001b[A\u001b[A\u001b[A\u001b[A\u001b[A\n",
            "\n",
            "\n",
            "\n",
            "\n",
            "\n",
            "\n",
            "\n",
            " 38%|███▊      | 9/24 [00:13<00:26,  1.77s/it]\u001b[A\u001b[A\u001b[A\u001b[A\u001b[A\u001b[A\u001b[A\u001b[A\n",
            "\n",
            "\n",
            "\n",
            "\n",
            "\n",
            "\n",
            " 54%|█████▍    | 13/24 [00:13<00:07,  1.40it/s]\u001b[A\u001b[A\u001b[A\u001b[A\u001b[A\u001b[A\u001b[A\n",
            "\n",
            "\n"
          ]
        },
        {
          "output_type": "stream",
          "name": "stdout",
          "text": [
            "\r\r\r\r"
          ]
        },
        {
          "output_type": "stream",
          "name": "stderr",
          "text": [
            "\r 62%|██████▎   | 15/24 [00:13<00:10,  1.16s/it]\u001b[A\u001b[A\u001b[A\n",
            "\n",
            " 54%|█████▍    | 13/24 [00:13<00:16,  1.47s/it]\n",
            "\n",
            "\n",
            "\n",
            "\n",
            "\n",
            "\n",
            "\n",
            "\n",
            " 79%|███████▉  | 19/24 [00:13<00:04,  1.00it/s]\u001b[A\u001b[A\u001b[A\u001b[A\u001b[A\u001b[A\u001b[A\u001b[A\u001b[A\n",
            "\n",
            "\n",
            "\n",
            " 75%|███████▌  | 18/24 [00:13<00:05,  1.16it/s]\u001b[A\u001b[A\u001b[A\u001b[A"
          ]
        },
        {
          "output_type": "stream",
          "name": "stdout",
          "text": [
            "\r\r\r\r"
          ]
        },
        {
          "output_type": "stream",
          "name": "stderr",
          "text": [
            "\n",
            "\n",
            "\n",
            "\n",
            "\n",
            "\n",
            "\n",
            " 58%|█████▊    | 14/24 [00:13<00:06,  1.62it/s]\u001b[A\u001b[A\u001b[A\u001b[A\u001b[A\u001b[A\u001b[A"
          ]
        },
        {
          "output_type": "stream",
          "name": "stdout",
          "text": [
            "\r"
          ]
        },
        {
          "output_type": "stream",
          "name": "stderr",
          "text": [
            "\n",
            "\n",
            "\n",
            "\n",
            " 79%|███████▉  | 19/24 [00:13<00:03,  1.39it/s]\u001b[A\u001b[A\u001b[A\u001b[A\n",
            "\n",
            "\n",
            "\n",
            "\n",
            "\n",
            " 75%|███████▌  | 18/24 [00:13<00:05,  1.16it/s]\u001b[A\u001b[A\u001b[A\u001b[A\u001b[A\u001b[A\n",
            " 88%|████████▊ | 21/24 [00:13<00:02,  1.26it/s]\u001b[A"
          ]
        },
        {
          "output_type": "stream",
          "name": "stdout",
          "text": [
            "\r\r\r"
          ]
        },
        {
          "output_type": "stream",
          "name": "stderr",
          "text": [
            "\r 58%|█████▊    | 14/24 [00:14<00:12,  1.24s/it]\n",
            "\n",
            " 62%|██████▎   | 15/24 [00:14<00:06,  1.37it/s]\u001b[A\u001b[A\n",
            "\n",
            "\n",
            " 67%|██████▋   | 16/24 [00:14<00:08,  1.08s/it]\u001b[A\u001b[A\u001b[A\n",
            "\n",
            "\n",
            "\n",
            "\n",
            "\n",
            "\n",
            "\n",
            " 42%|████▏     | 10/24 [00:14<00:21,  1.55s/it]\u001b[A\u001b[A\u001b[A\u001b[A\u001b[A\u001b[A\u001b[A\u001b[A"
          ]
        },
        {
          "output_type": "stream",
          "name": "stdout",
          "text": [
            "\r\r\r\r"
          ]
        },
        {
          "output_type": "stream",
          "name": "stderr",
          "text": [
            "\n",
            "\n",
            "\n",
            "\n",
            "\n",
            "\n",
            "\n",
            " 62%|██████▎   | 15/24 [00:14<00:05,  1.57it/s]\u001b[A\u001b[A\u001b[A\u001b[A\u001b[A\u001b[A\u001b[A\n",
            "\n",
            "\n",
            "\n",
            "\n",
            "\n",
            " 79%|███████▉  | 19/24 [00:14<00:03,  1.34it/s]\u001b[A\u001b[A\u001b[A\u001b[A\u001b[A\u001b[A\n",
            " 92%|█████████▏| 22/24 [00:14<00:01,  1.46it/s]\u001b[A"
          ]
        },
        {
          "output_type": "stream",
          "name": "stdout",
          "text": [
            "\r\r\r"
          ]
        },
        {
          "output_type": "stream",
          "name": "stderr",
          "text": [
            "\n",
            "\n",
            "\n",
            "\n",
            "\n",
            "\n",
            "\n",
            "\n",
            "\n",
            " 83%|████████▎ | 20/24 [00:14<00:04,  1.03s/it]\u001b[A\u001b[A\u001b[A\u001b[A\u001b[A\u001b[A\u001b[A\u001b[A\u001b[A\n",
            "\n",
            " 67%|██████▋   | 16/24 [00:14<00:05,  1.55it/s]\u001b[A\u001b[A"
          ]
        },
        {
          "output_type": "stream",
          "name": "stdout",
          "text": [
            "\r\r"
          ]
        },
        {
          "output_type": "stream",
          "name": "stderr",
          "text": [
            "\n",
            "\n",
            "\n",
            "\n",
            "\n",
            "\n",
            "\n",
            " 67%|██████▋   | 16/24 [00:14<00:04,  1.75it/s]\u001b[A\u001b[A\u001b[A\u001b[A\u001b[A\u001b[A\u001b[A\n",
            "\n",
            "\n",
            "\n",
            "\n",
            "\n",
            "\n",
            "\n",
            " 46%|████▌     | 11/24 [00:14<00:16,  1.24s/it]\u001b[A\u001b[A\u001b[A\u001b[A\u001b[A\u001b[A\u001b[A\u001b[A"
          ]
        },
        {
          "output_type": "stream",
          "name": "stdout",
          "text": [
            "\r\r"
          ]
        },
        {
          "output_type": "stream",
          "name": "stderr",
          "text": [
            "\r 62%|██████▎   | 15/24 [00:14<00:10,  1.13s/it]\n",
            "\n",
            "\n",
            "\n",
            " 83%|████████▎ | 20/24 [00:14<00:03,  1.20it/s]\u001b[A\u001b[A\u001b[A\u001b[A\n",
            " 96%|█████████▌| 23/24 [00:14<00:00,  1.55it/s]\u001b[A\n",
            "\n",
            "\n",
            "\n",
            "\n",
            "\n",
            " 83%|████████▎ | 20/24 [00:14<00:02,  1.41it/s]\u001b[A\u001b[A\u001b[A\u001b[A\u001b[A\u001b[A\n",
            "\n",
            "\n",
            "\n",
            "\n",
            " 79%|███████▉  | 19/24 [00:15<00:06,  1.21s/it]\u001b[A\u001b[A\u001b[A\u001b[A\u001b[A"
          ]
        },
        {
          "output_type": "stream",
          "name": "stdout",
          "text": [
            "\r\r\r\r\r"
          ]
        },
        {
          "output_type": "stream",
          "name": "stderr",
          "text": [
            "\n",
            "\n",
            " 71%|███████   | 17/24 [00:15<00:04,  1.56it/s]\u001b[A\u001b[A\n",
            "\n",
            "\n",
            "\n",
            "\n",
            "\n",
            "\n",
            "\n",
            "\n",
            " 88%|████████▊ | 21/24 [00:15<00:02,  1.08it/s]\u001b[A\u001b[A\u001b[A\u001b[A\u001b[A\u001b[A\u001b[A\u001b[A\u001b[A\n",
            "\n",
            "\n",
            "\n",
            "\n",
            "\n",
            "\n",
            "\n",
            " 50%|█████     | 12/24 [00:15<00:12,  1.01s/it]\u001b[A\u001b[A\u001b[A\u001b[A\u001b[A\u001b[A\u001b[A\u001b[A"
          ]
        },
        {
          "output_type": "stream",
          "name": "stdout",
          "text": [
            "\r\r\r"
          ]
        },
        {
          "output_type": "stream",
          "name": "stderr",
          "text": [
            "\n",
            "\n",
            "\n",
            " 67%|██████▋   | 16/24 [00:15<00:07,  1.04it/s]\n",
            "\n",
            "\n",
            "\n",
            "\n",
            "\n",
            " 88%|████████▊ | 21/24 [00:15<00:01,  1.53it/s]\u001b[A\u001b[A\u001b[A\u001b[A\u001b[A\u001b[A"
          ]
        },
        {
          "output_type": "stream",
          "name": "stdout",
          "text": [
            "\r\r\r"
          ]
        },
        {
          "output_type": "stream",
          "name": "stderr",
          "text": [
            "\n",
            "\n",
            "\n",
            "\n",
            " 88%|████████▊ | 21/24 [00:15<00:02,  1.27it/s]\u001b[A\u001b[A\u001b[A\u001b[A\n",
            "\n",
            "\n",
            "\n",
            "\n",
            " 83%|████████▎ | 20/24 [00:15<00:04,  1.04s/it]\u001b[A\u001b[A\u001b[A\u001b[A\u001b[A\n",
            "100%|██████████| 24/24 [00:15<00:00,  1.53it/s]\n",
            "\n",
            "\n",
            " 75%|███████▌  | 18/24 [00:15<00:03,  1.59it/s]\u001b[A\u001b[A"
          ]
        },
        {
          "output_type": "stream",
          "name": "stdout",
          "text": [
            "\r\r\r\r"
          ]
        },
        {
          "output_type": "stream",
          "name": "stderr",
          "text": [
            "\n",
            "\n",
            "\n",
            " 75%|███████▌  | 18/24 [00:15<00:05,  1.09it/s]\u001b[A\u001b[A\u001b[A\n",
            "\n",
            "\n",
            "\n",
            "\n",
            "\n",
            "\n",
            " 71%|███████   | 17/24 [00:15<00:05,  1.34it/s]\u001b[A\u001b[A\u001b[A\u001b[A\u001b[A\u001b[A\u001b[A\n",
            "\n",
            "\n",
            "\n",
            "\n",
            "\n",
            "\n",
            "\n",
            " 71%|███████   | 17/24 [00:15<00:05,  1.23it/s]"
          ]
        },
        {
          "output_type": "stream",
          "name": "stdout",
          "text": [
            "\r\r\r\r"
          ]
        },
        {
          "output_type": "stream",
          "name": "stderr",
          "text": [
            "\n",
            "\n",
            "\n",
            "\n",
            "\n",
            " 88%|████████▊ | 21/24 [00:16<00:02,  1.19it/s]\u001b[A\u001b[A\u001b[A\u001b[A\u001b[A\n",
            "\n",
            "\n",
            "\n",
            " 92%|█████████▏| 22/24 [00:16<00:01,  1.46it/s]\u001b[A\u001b[A\u001b[A\u001b[A"
          ]
        },
        {
          "output_type": "stream",
          "name": "stdout",
          "text": [
            "\r\r"
          ]
        },
        {
          "output_type": "stream",
          "name": "stderr",
          "text": [
            "\n",
            "\n",
            "\n",
            "\n",
            "\n",
            "\n",
            "\n",
            "\n",
            "\n",
            " 92%|█████████▏| 22/24 [00:16<00:01,  1.04it/s]\u001b[A\u001b[A\u001b[A\u001b[A\u001b[A\u001b[A\u001b[A\u001b[A\u001b[A\n",
            "\n",
            "\n",
            "\n",
            "\n",
            "\n",
            "\n",
            " 75%|███████▌  | 18/24 [00:16<00:03,  1.52it/s]\u001b[A\u001b[A\u001b[A\u001b[A\u001b[A\u001b[A\u001b[A\n",
            "\n",
            "\n",
            "\n",
            "\n",
            " 92%|█████████▏| 22/24 [00:16<00:01,  1.47it/s]\u001b[A\u001b[A\u001b[A\u001b[A\u001b[A"
          ]
        },
        {
          "output_type": "stream",
          "name": "stdout",
          "text": [
            "\r\r\r"
          ]
        },
        {
          "output_type": "stream",
          "name": "stderr",
          "text": [
            "\n",
            "\n",
            " 79%|███████▉  | 19/24 [00:16<00:03,  1.54it/s]\u001b[A\u001b[A\n",
            "\n",
            "\n",
            "\n",
            " 96%|█████████▌| 23/24 [00:16<00:00,  1.60it/s]\u001b[A\u001b[A\u001b[A\u001b[A\n",
            "\n",
            "\n",
            "\n",
            "\n",
            "\n",
            "\n",
            "\n",
            " 58%|█████▊    | 14/24 [00:16<00:08,  1.19it/s]\u001b[A\u001b[A\u001b[A\u001b[A\u001b[A\u001b[A\u001b[A\u001b[A\n",
            "\n",
            "\n",
            " 79%|███████▉  | 19/24 [00:16<00:04,  1.12it/s]\u001b[A\u001b[A\u001b[A"
          ]
        },
        {
          "output_type": "stream",
          "name": "stdout",
          "text": [
            "\r\r\r\r"
          ]
        },
        {
          "output_type": "stream",
          "name": "stderr",
          "text": [
            "\n",
            "\n",
            "\n",
            "\n",
            "\n",
            "\n",
            "\n",
            " 79%|███████▉  | 19/24 [00:16<00:02,  1.73it/s]\u001b[A\u001b[A\u001b[A\u001b[A\u001b[A\u001b[A\u001b[A\n",
            "\n",
            "\n",
            "\n",
            "\n",
            "\n",
            "\n",
            "\n",
            "\n",
            " 75%|███████▌  | 18/24 [00:16<00:04,  1.23it/s]"
          ]
        },
        {
          "output_type": "stream",
          "name": "stdout",
          "text": [
            "\r\r\r"
          ]
        },
        {
          "output_type": "stream",
          "name": "stderr",
          "text": [
            "\n",
            "\n",
            "\n",
            "\n",
            "100%|██████████| 24/24 [00:16<00:00,  1.41it/s]\n",
            "\n",
            "\n",
            "\n",
            "\n",
            "\n",
            "\n",
            "\n",
            " 83%|████████▎ | 20/24 [00:16<00:01,  2.02it/s]\u001b[A\u001b[A\u001b[A\u001b[A\u001b[A\u001b[A\u001b[A\n",
            "\n",
            " 83%|████████▎ | 20/24 [00:17<00:02,  1.58it/s]\u001b[A\u001b[A"
          ]
        },
        {
          "output_type": "stream",
          "name": "stdout",
          "text": [
            "\r\r\r"
          ]
        },
        {
          "output_type": "stream",
          "name": "stderr",
          "text": [
            "\n",
            "\n",
            "\n",
            " 79%|███████▉  | 19/24 [00:17<00:03,  1.41it/s]\n",
            "\n",
            "\n",
            "\n",
            "\n",
            "\n",
            "\n",
            "\n",
            "\n",
            "100%|██████████| 24/24 [00:17<00:00,  1.36it/s]\u001b[A\u001b[A\u001b[A\u001b[A\u001b[A\u001b[A\u001b[A\u001b[A\u001b[A\n",
            "\n",
            "\n",
            "\n",
            "\n",
            "100%|██████████| 24/24 [00:17<00:00,  1.40it/s]\n",
            "\n",
            "\n",
            "\n",
            "\n",
            "\n",
            "\n",
            "\n",
            "\n",
            " 62%|██████▎   | 15/24 [00:17<00:07,  1.24it/s]\u001b[A\u001b[A\u001b[A\u001b[A\u001b[A\u001b[A\u001b[A\u001b[A\n",
            "\n",
            "\n",
            "\n",
            "\n",
            "\n",
            " 92%|█████████▏| 22/24 [00:17<00:02,  1.02s/it]\u001b[A\u001b[A\u001b[A\u001b[A\u001b[A\u001b[A"
          ]
        },
        {
          "output_type": "stream",
          "name": "stdout",
          "text": [
            "\r\r\r\r\r\r"
          ]
        },
        {
          "output_type": "stream",
          "name": "stderr",
          "text": [
            "\n",
            "\n",
            "\n",
            "\n",
            "\n",
            "\n",
            "\n",
            " 88%|████████▊ | 21/24 [00:17<00:01,  1.98it/s]\u001b[A\u001b[A\u001b[A\u001b[A\u001b[A\u001b[A\u001b[A\n",
            "\n",
            " 88%|████████▊ | 21/24 [00:17<00:01,  1.69it/s]\u001b[A\u001b[A\n",
            "\n",
            "\n",
            "\n",
            "\n",
            "100%|██████████| 24/24 [00:17<00:00,  1.36it/s]\n",
            "\n",
            "\n",
            "\n",
            "\n",
            "\n",
            "\n",
            "\n",
            "\n",
            " 67%|██████▋   | 16/24 [00:17<00:05,  1.50it/s]\u001b[A\u001b[A\u001b[A\u001b[A\u001b[A\u001b[A\u001b[A\u001b[A"
          ]
        },
        {
          "output_type": "stream",
          "name": "stdout",
          "text": [
            "\r\r\r\r"
          ]
        },
        {
          "output_type": "stream",
          "name": "stderr",
          "text": [
            "\r 83%|████████▎ | 20/24 [00:17<00:02,  1.49it/s]\n",
            "\n",
            "\n",
            "\n",
            "\n",
            "\n",
            "\n",
            " 92%|█████████▏| 22/24 [00:17<00:00,  2.23it/s]\u001b[A\u001b[A\u001b[A\u001b[A\u001b[A\u001b[A\u001b[A"
          ]
        },
        {
          "output_type": "stream",
          "name": "stdout",
          "text": [
            "\r\r"
          ]
        },
        {
          "output_type": "stream",
          "name": "stderr",
          "text": [
            "\n",
            "\n",
            "\n",
            "\n",
            "\n",
            "\n",
            "\n",
            "\n",
            " 88%|████████▊ | 21/24 [00:18<00:01,  1.79it/s]\n",
            "\n",
            "\n",
            "\n",
            "\n",
            "\n",
            " 96%|█████████▌| 23/24 [00:18<00:00,  1.06it/s]\u001b[A\u001b[A\u001b[A\u001b[A\u001b[A\u001b[A\n",
            "\n",
            " 92%|█████████▏| 22/24 [00:18<00:01,  1.65it/s]\u001b[A\u001b[A"
          ]
        },
        {
          "output_type": "stream",
          "name": "stdout",
          "text": [
            "\r\r\r\r"
          ]
        },
        {
          "output_type": "stream",
          "name": "stderr",
          "text": [
            "\n",
            "\n",
            "\n",
            "\n",
            "\n",
            "\n",
            "\n",
            " 96%|█████████▌| 23/24 [00:18<00:00,  2.20it/s]\u001b[A\u001b[A\u001b[A\u001b[A\u001b[A\u001b[A\u001b[A\n",
            "\n",
            "\n",
            "\n",
            "\n",
            "\n",
            "\n",
            "\n",
            " 75%|███████▌  | 18/24 [00:18<00:03,  1.99it/s]\u001b[A\u001b[A\u001b[A\u001b[A\u001b[A\u001b[A\u001b[A\u001b[A\n",
            "\n",
            "\n",
            " 88%|████████▊ | 21/24 [00:18<00:02,  1.11it/s]\u001b[A\u001b[A\u001b[A\n",
            "\n",
            " 96%|█████████▌| 23/24 [00:18<00:00,  1.96it/s]\u001b[A\u001b[A"
          ]
        },
        {
          "output_type": "stream",
          "name": "stdout",
          "text": [
            "\r\r\r\r"
          ]
        },
        {
          "output_type": "stream",
          "name": "stderr",
          "text": [
            "\n",
            "\n",
            "\n",
            "\n",
            "\n",
            "\n",
            "\n",
            "100%|██████████| 24/24 [00:18<00:00,  1.30it/s]\n",
            "\n",
            "\n",
            "\n",
            "\n",
            "\n",
            "\n",
            "100%|██████████| 24/24 [00:18<00:00,  1.30it/s]\n",
            " 92%|█████████▏| 22/24 [00:18<00:01,  1.83it/s]\n",
            "\n",
            "\n",
            "\n",
            "\n",
            "\n",
            "\n",
            "\n",
            " 79%|███████▉  | 19/24 [00:18<00:02,  2.22it/s]\u001b[A\u001b[A\u001b[A\u001b[A\u001b[A\u001b[A\u001b[A\u001b[A\n",
            "\n",
            "\n",
            " 92%|█████████▏| 22/24 [00:18<00:01,  1.36it/s]\u001b[A\u001b[A\u001b[A"
          ]
        },
        {
          "output_type": "stream",
          "name": "stdout",
          "text": [
            "\r\r\r\r\r"
          ]
        },
        {
          "output_type": "stream",
          "name": "stderr",
          "text": [
            "\n",
            "\n",
            "100%|██████████| 24/24 [00:18<00:00,  1.28it/s]\n",
            " 96%|█████████▌| 23/24 [00:18<00:00,  2.29it/s]"
          ]
        },
        {
          "output_type": "stream",
          "name": "stdout",
          "text": [
            "\r\r"
          ]
        },
        {
          "output_type": "stream",
          "name": "stderr",
          "text": [
            "100%|██████████| 24/24 [00:18<00:00,  1.26it/s]\n",
            "\n",
            "\n",
            "\n",
            " 96%|█████████▌| 23/24 [00:19<00:00,  1.56it/s]\u001b[A\u001b[A\u001b[A\n",
            "\n",
            "\n",
            "\n",
            "\n",
            "\n",
            "\n",
            "\n",
            " 83%|████████▎ | 20/24 [00:19<00:01,  2.19it/s]\u001b[A\u001b[A\u001b[A\u001b[A\u001b[A\u001b[A\u001b[A\u001b[A"
          ]
        },
        {
          "output_type": "stream",
          "name": "stdout",
          "text": [
            "\r\r\r"
          ]
        },
        {
          "output_type": "stream",
          "name": "stderr",
          "text": [
            "\n",
            "\n",
            "\n",
            "\n",
            "\n",
            "\n",
            "\n",
            "\n",
            " 88%|████████▊ | 21/24 [00:19<00:01,  2.50it/s]\u001b[A\u001b[A\u001b[A\u001b[A\u001b[A\u001b[A\u001b[A\u001b[A\n",
            "\n",
            "\n",
            "100%|██████████| 24/24 [00:19<00:00,  1.23it/s]"
          ]
        },
        {
          "output_type": "stream",
          "name": "stdout",
          "text": [
            "\r\r"
          ]
        },
        {
          "output_type": "stream",
          "name": "stderr",
          "text": [
            "\n",
            "\n",
            "\n",
            "\n",
            "\n",
            "\n",
            "\n",
            "\n",
            "\n",
            " 92%|█████████▏| 22/24 [00:19<00:00,  2.49it/s]\u001b[A\u001b[A\u001b[A\u001b[A\u001b[A\u001b[A\u001b[A\u001b[A"
          ]
        },
        {
          "output_type": "stream",
          "name": "stdout",
          "text": [
            "\r"
          ]
        },
        {
          "output_type": "stream",
          "name": "stderr",
          "text": [
            "\n",
            "\n",
            "\n",
            "\n",
            "\n",
            "\n",
            "\n",
            "\n",
            " 96%|█████████▌| 23/24 [00:20<00:00,  2.51it/s]\u001b[A\u001b[A\u001b[A\u001b[A\u001b[A\u001b[A\u001b[A\u001b[A"
          ]
        },
        {
          "output_type": "stream",
          "name": "stdout",
          "text": [
            "\r"
          ]
        },
        {
          "output_type": "stream",
          "name": "stderr",
          "text": [
            "\n",
            "\n",
            "\n",
            "\n",
            "\n",
            "\n",
            "\n",
            "\n",
            "100%|██████████| 24/24 [00:20<00:00,  1.17it/s]"
          ]
        },
        {
          "output_type": "stream",
          "name": "stdout",
          "text": [
            "\r\n",
            "Downloading completed !!\n"
          ]
        },
        {
          "output_type": "stream",
          "name": "stderr",
          "text": [
            "\n"
          ]
        }
      ],
      "source": [
        "import sys\n",
        "import re\n",
        "import json\n",
        "import os\n",
        "import cv2\n",
        "import numpy as np\n",
        "\n",
        "from requests import get\n",
        "from tqdm import tqdm\n",
        "from bs4 import BeautifulSoup as soup\n",
        "from concurrent.futures import ThreadPoolExecutor\n",
        "\n",
        "from pydotmap import DotMap\n",
        "\n",
        "\n",
        "class PinterestImageScraper:\n",
        "\n",
        "    def __init__(self):\n",
        "        self.json_data_list = []\n",
        "        self.unique_img = []\n",
        "\n",
        "    @staticmethod\n",
        "    def clear():\n",
        "        if os.name == 'nt':\n",
        "            _ = os.system('cls')\n",
        "        else:\n",
        "            _ = os.system('clear')\n",
        "\n",
        "    # ---------------------------------------- GET GOOGLE RESULTS ---------------------------------\n",
        "    @staticmethod\n",
        "    def get_pinterest_links(body):\n",
        "        searched_urls = []\n",
        "        html = soup(body, 'html.parser')\n",
        "        links = html.select('#main > div > div > div > a')\n",
        "        print('[+] saving results ...')\n",
        "        for link in links:\n",
        "            link = link.get('href')\n",
        "            link = re.sub(r'/url\\?q=', '', link)\n",
        "            if link[0] != \"/\" and \"pinterest\" in link:\n",
        "                searched_urls.append(link)\n",
        "\n",
        "        return searched_urls\n",
        "\n",
        "    # -------------------------- save json data from source code of given pinterest url -------------\n",
        "    def get_source(self, url):\n",
        "        try:\n",
        "            res = get(url)\n",
        "        except Exception as e:\n",
        "            return\n",
        "        html = soup(res.text, 'html.parser')\n",
        "        # get json data from script tag having id initial-state\n",
        "        json_data = html.find_all(\"script\", attrs={\"id\": \"__PWS_DATA__\"})\n",
        "        for a in json_data:\n",
        "            self.json_data_list.append(a.string)\n",
        "\n",
        "    # --------------------------- READ JSON OF PINTEREST WEBSITE ----------------------\n",
        "    def save_image_url(self):\n",
        "        print('[+] saving image urls ...')\n",
        "        url_list = [i for i in self.json_data_list if i.strip()]\n",
        "        if not len(url_list):\n",
        "            return url_list\n",
        "        url_list = []\n",
        "        for js in self.json_data_list:\n",
        "            try:\n",
        "                data = DotMap(json.loads(js))\n",
        "                urls = []\n",
        "                for pin in data.props.initialReduxState.pins:\n",
        "                    if isinstance(data.props.initialReduxState.pins[pin].images.get(\"orig\"), list):\n",
        "                        for i in data.props.initialReduxState.pins[pin].images.get(\"orig\"):\n",
        "                            urls.append(i.get(\"url\"))\n",
        "                    else:\n",
        "                        urls.append(data.props.initialReduxState.pins[pin].images.get(\"orig\").get(\"url\"))\n",
        "\n",
        "                for url in urls:\n",
        "                    url_list.append(url)\n",
        "            except Exception as e:\n",
        "                continue\n",
        "        \n",
        "        return list(set(url_list))\n",
        "\n",
        "    # ------------------------------ image hash calculation -------------------------\n",
        "    def dhash(self, image, hashSize=8):\n",
        "        resized = cv2.resize(image, (hashSize + 1, hashSize))\n",
        "        diff = resized[:, 1:] > resized[:, :-1]\n",
        "        return sum([2 ** i for (i, v) in enumerate(diff.flatten()) if v])\n",
        "\n",
        "    # ------------------------------  save all downloaded images to folder ---------------------------\n",
        "    def saving_op(self, var):\n",
        "        url_list, folder_name = var\n",
        "        if not os.path.exists(os.path.join(os.getcwd(), folder_name)):\n",
        "                os.mkdir(os.path.join(os.getcwd(), folder_name))\n",
        "        for img in tqdm(url_list):\n",
        "            result = get(img, stream=True).content\n",
        "            file_name = img.split(\"/\")[-1]\n",
        "            file_path = os.path.join(os.getcwd(), folder_name, file_name)\n",
        "            img_arr = np.asarray(bytearray(result), dtype=\"uint8\")\n",
        "            image = cv2.imdecode(img_arr, cv2.IMREAD_COLOR)\n",
        "            if not self.dhash(image) in self.unique_img:\n",
        "                cv2.imwrite(file_path, image)\n",
        "            self.unique_img.append(self.dhash(image))\n",
        "            print(\"\", end=\"\\r\")\n",
        "\n",
        "    # ------------------------------  download images from image url list ----------------------------\n",
        "    def download(self, url_list, keyword):\n",
        "        folder_name = keyword\n",
        "        num_of_workers = 10\n",
        "        idx = len(url_list) // num_of_workers if len(url_list) > 9 else len(url_list)\n",
        "        param = []\n",
        "        for i in range(num_of_workers):\n",
        "            param.append((url_list[((i*idx)):(idx*(i+1))], folder_name))\n",
        "        with ThreadPoolExecutor(max_workers=num_of_workers) as executor:\n",
        "            executor.map(self.saving_op, param)\n",
        "        PinterestImageScraper.clear()\n",
        "\n",
        "    # -------------------------- get user keyword and google search for that keywords ---------------------\n",
        "    @staticmethod\n",
        "    def start_scraping(key=None):\n",
        "        try:\n",
        "            key = input(\"Enter keyword: \") if key == None else key\n",
        "            keyword = key + \" pinterest\"\n",
        "            keyword = keyword.replace(\"+\", \"%20\")\n",
        "            url = f'http://www.google.co.in/search?hl=en&q={keyword}'\n",
        "            print('[+] starting search ...')\n",
        "            res = get(url)\n",
        "            searched_urls = PinterestImageScraper.get_pinterest_links(res.content)\n",
        "        except Exception as e:\n",
        "            return []\n",
        "\n",
        "        return searched_urls, key.replace(\" \", \"_\")\n",
        "\n",
        "\n",
        "    def make_ready(self, key=None):\n",
        "        extracted_urls, keyword = PinterestImageScraper.start_scraping(key)\n",
        "\n",
        "        print('[+] saving json data ...')\n",
        "        for i in extracted_urls:\n",
        "            self.get_source(i)\n",
        "\n",
        "        # get all urls of images and save in a list\n",
        "        url_list = self.save_image_url()\n",
        "\n",
        "        # download images from saved images url\n",
        "        print(f\"[+] Total {len(url_list)} files available to download.\")\n",
        "        print()\n",
        "\n",
        "        if len(url_list):\n",
        "            try:\n",
        "                self.download(url_list, keyword)\n",
        "            except KeyboardInterrupt:\n",
        "                return False\n",
        "            return True\n",
        "        \n",
        "        return False\n",
        "\n",
        "\n",
        "if __name__ == \"__main__\":\n",
        "    p_scraper = PinterestImageScraper()\n",
        "    is_downloaded = p_scraper.make_ready()\n",
        "\n",
        "    if is_downloaded:\n",
        "        print(\"\\nDownloading completed !!\")\n",
        "    else:\n",
        "        print(\"\\nNothing to download !!\")"
      ]
    },
    {
      "cell_type": "code",
      "source": [
        "!zip -r /content/sneakers.zip /content/Sneaker_head\n"
      ],
      "metadata": {
        "colab": {
          "base_uri": "https://localhost:8080/"
        },
        "id": "sJp1u_1BiMXM",
        "outputId": "80551eab-fc3d-4bc9-fbf8-0fa4b3d96f24"
      },
      "execution_count": 7,
      "outputs": [
        {
          "output_type": "stream",
          "name": "stdout",
          "text": [
            "  adding: content/Sneaker_head/ (stored 0%)\n",
            "  adding: content/Sneaker_head/5bf74229198cdd6e079ad43ace7560d5.jpg (deflated 5%)\n",
            "  adding: content/Sneaker_head/dffaa16d15dbb27c5a9d99657c309c2a.jpg (deflated 5%)\n",
            "  adding: content/Sneaker_head/9e43103529b97778f9c871b1af2ed3ef.jpg (deflated 7%)\n",
            "  adding: content/Sneaker_head/772000aedf9e16e9d8b920382b351d1a.jpg (deflated 4%)\n",
            "  adding: content/Sneaker_head/585f3defbaf9c5b91982fd5e43b27f2d.jpg (deflated 3%)\n",
            "  adding: content/Sneaker_head/12bd2ba9e6aa1cc7c37c5f21ac2385d1.jpg (deflated 5%)\n",
            "  adding: content/Sneaker_head/75424e9c4822838ac8fce8dc41bd6d9a.jpg (deflated 6%)\n",
            "  adding: content/Sneaker_head/b42aec34639f6bd0cfc37da65c395b89.jpg (deflated 4%)\n",
            "  adding: content/Sneaker_head/207757c9f8d5db08eaca6d43872a1cad.jpg (deflated 7%)\n",
            "  adding: content/Sneaker_head/c79969ba3d64430c65957e85088ecd1a.jpg (deflated 5%)\n",
            "  adding: content/Sneaker_head/297310407fcd35268ea4d3d3f99cc016.jpg (deflated 4%)\n",
            "  adding: content/Sneaker_head/0e1a215915632f5449e0d060120ee7a8.jpg (deflated 5%)\n",
            "  adding: content/Sneaker_head/acb527897d67ee3408a691cad7d168d6.jpg (deflated 4%)\n",
            "  adding: content/Sneaker_head/1df27a99c2bed99f6a35a2663255a281.jpg (deflated 6%)\n",
            "  adding: content/Sneaker_head/bf60948b744360eceafc3f519cf39cb2.jpg (deflated 5%)\n",
            "  adding: content/Sneaker_head/8ff3af58265030fd194fc332149b6227.jpg (deflated 5%)\n",
            "  adding: content/Sneaker_head/672109087a6bab69f4918d93abc44001.jpg (deflated 4%)\n",
            "  adding: content/Sneaker_head/23ed33c361bd13a74ba3343f7af60da4.jpg (deflated 7%)\n",
            "  adding: content/Sneaker_head/19acdd5a79554e4f6caf13fa1407695b.jpg (deflated 8%)\n",
            "  adding: content/Sneaker_head/577413328a3983dd2a5ace563ae31a2f.jpg (deflated 7%)\n",
            "  adding: content/Sneaker_head/446f45174cf8a1a6b6b3626ccbb82612.jpg (deflated 5%)\n",
            "  adding: content/Sneaker_head/b103dd17fd16e8f592921ed009ead1c5.jpg (deflated 4%)\n",
            "  adding: content/Sneaker_head/6b9cecba4dab6a89cd792315232b71e1.jpg (deflated 8%)\n",
            "  adding: content/Sneaker_head/189ebe7821c8321fbccfb06601703bac.jpg (deflated 3%)\n",
            "  adding: content/Sneaker_head/87d386469df0fdc96104e816fdbb1466.jpg (deflated 6%)\n",
            "  adding: content/Sneaker_head/2c547726e21be9ca7b269bce87c351f1.jpg (deflated 6%)\n",
            "  adding: content/Sneaker_head/492df87469612a0db89d466eae4fdefd.jpg (deflated 10%)\n",
            "  adding: content/Sneaker_head/68c6b9f49a9d11043a3e130266e356bf.png (deflated 3%)\n",
            "  adding: content/Sneaker_head/f44e3440b86f15bbd2523058028a1be8.jpg (deflated 51%)\n",
            "  adding: content/Sneaker_head/9fc9bc01e10ace263d024ba72abfd487.jpg (deflated 11%)\n",
            "  adding: content/Sneaker_head/f816e2c5c4d2675bc21f75b61fd6a643.png (deflated 3%)\n",
            "  adding: content/Sneaker_head/b326d9f2da264427de935c8f0613e216.jpg (deflated 4%)\n",
            "  adding: content/Sneaker_head/0c248496fe9683d9fd93d580509f0eda.jpg (deflated 6%)\n",
            "  adding: content/Sneaker_head/8ff6e9a4a8dde4901f0a827b77e4b7bf.jpg (deflated 6%)\n",
            "  adding: content/Sneaker_head/2d13d36e3f9653a1da3ae94ae3278b30.jpg (deflated 4%)\n",
            "  adding: content/Sneaker_head/26497ac39ba3dc3ad9aec1badea25acb.jpg (deflated 3%)\n",
            "  adding: content/Sneaker_head/e45c58ceb61d3ee6995d00e5481a53af.jpg (deflated 5%)\n",
            "  adding: content/Sneaker_head/c3a3dcd6bbdabc44bef769267effb39c.jpg (deflated 5%)\n",
            "  adding: content/Sneaker_head/c013228a23cad55eec739999e56546aa.png (deflated 4%)\n",
            "  adding: content/Sneaker_head/a31e833ac8a12e18186c36ac50889987.png (deflated 8%)\n",
            "  adding: content/Sneaker_head/e8b2aad11bdcdd2cb40a991c6cf0d2a2.jpg (deflated 6%)\n",
            "  adding: content/Sneaker_head/7d0755a14e08cf10f762bac62f841624.jpg (deflated 6%)\n",
            "  adding: content/Sneaker_head/f8e5e75198ab8e6773d96a4af6caeae6.jpg (deflated 7%)\n",
            "  adding: content/Sneaker_head/1ff5df0b98a330e960a34d5905ecfdd3.png (deflated 5%)\n",
            "  adding: content/Sneaker_head/6b03f3821a8707c66afb31d39f2f195c.png (deflated 5%)\n",
            "  adding: content/Sneaker_head/049387553582692513fce96e44ed6ce0.jpg (deflated 6%)\n",
            "  adding: content/Sneaker_head/902c9d4dffa92e444ac9cda7936614db.jpg (deflated 5%)\n",
            "  adding: content/Sneaker_head/46f7653388f94c89c68f05de619cde47.jpg (deflated 6%)\n",
            "  adding: content/Sneaker_head/2c86eb8ae8cfbec0db4decdb844cefb7.png (deflated 17%)\n",
            "  adding: content/Sneaker_head/49658010b66ea4019a34890d99111f9e.jpg (deflated 8%)\n",
            "  adding: content/Sneaker_head/ae44bade81b5a268029bd853b4c8757d.jpg (deflated 3%)\n",
            "  adding: content/Sneaker_head/6b68b2ed74b22f0f1665cc831c009dcf.png (deflated 16%)\n",
            "  adding: content/Sneaker_head/97bb8b15bea737d7761afbf7f0647302.png (deflated 6%)\n",
            "  adding: content/Sneaker_head/93efa8c056124b81a32129d138773686.jpg (deflated 6%)\n",
            "  adding: content/Sneaker_head/bb58255ce85566204b692f0bbc80d84c.jpg (deflated 3%)\n",
            "  adding: content/Sneaker_head/be8c345babb7c3a20ff156a6115f6ed2.jpg (deflated 3%)\n",
            "  adding: content/Sneaker_head/2c178cab3c4cdcef1baafcbec3f9f25e.jpg (deflated 4%)\n",
            "  adding: content/Sneaker_head/6c11a3a660003b4f82473d26f73ca4ee.jpg (deflated 7%)\n",
            "  adding: content/Sneaker_head/83166c83f2864ec368bed05a609b47de.jpg (deflated 5%)\n",
            "  adding: content/Sneaker_head/a899246352fb324fa367930876926a58.jpg (deflated 5%)\n",
            "  adding: content/Sneaker_head/a9bd58468bba5827a0e1455939b11cde.jpg (deflated 8%)\n",
            "  adding: content/Sneaker_head/a8c9b0c21840ec2581a4efe54b83b12a.jpg (deflated 5%)\n",
            "  adding: content/Sneaker_head/6de745f1dec13ac736ab2d9ef2d9e656.png (deflated 13%)\n",
            "  adding: content/Sneaker_head/599f42b32afc6b8427a234c84a4c6811.jpg (deflated 6%)\n",
            "  adding: content/Sneaker_head/d85c71ef7d5a09650acda5c3406a2ed7.jpg (deflated 15%)\n",
            "  adding: content/Sneaker_head/b6c67838d07609bebe455e590529de9f.jpg (deflated 5%)\n",
            "  adding: content/Sneaker_head/91424a8567c29e3b5e3c9fa1d522b5c9.jpg (deflated 7%)\n",
            "  adding: content/Sneaker_head/bf39e5aa64ccbc07ced27ab17a73b516.jpg (deflated 16%)\n",
            "  adding: content/Sneaker_head/0c09ceeda870faf14f9afec705974ebf.jpg (deflated 4%)\n",
            "  adding: content/Sneaker_head/52254cb3c8f522f82675096e149fdb3e.png (deflated 9%)\n",
            "  adding: content/Sneaker_head/86b844717264340d9fab98e66c7bbf41.jpg (deflated 6%)\n",
            "  adding: content/Sneaker_head/eeabbc9f0ccdda3411693fa6c5ebb0fa.jpg (deflated 4%)\n",
            "  adding: content/Sneaker_head/38714424fa3e015cbb5760ab17a7d314.jpg (deflated 7%)\n",
            "  adding: content/Sneaker_head/5d2d9370c52a157abeb446588c67c930.jpg (deflated 5%)\n",
            "  adding: content/Sneaker_head/93063687f59139cbd58b1e5d862fe271.jpg (deflated 8%)\n",
            "  adding: content/Sneaker_head/3204e07e4e851ac773becbc6b6ff7aa9.jpg (deflated 6%)\n",
            "  adding: content/Sneaker_head/17722cc6a02c4dbd7b1a46e0afaff13e.jpg (deflated 7%)\n",
            "  adding: content/Sneaker_head/bcac1a5c67ff06da15baa541ceb8f1e0.jpg (deflated 5%)\n",
            "  adding: content/Sneaker_head/246e9b7e2a745db5dfa77f003b1c0000.jpg (deflated 19%)\n",
            "  adding: content/Sneaker_head/52d1538bfd4c3d3949bf7fb985bd6b26.jpg (deflated 4%)\n",
            "  adding: content/Sneaker_head/1519b2a99bf50a96e7ba7ab44290ee57.jpg (deflated 7%)\n",
            "  adding: content/Sneaker_head/e1f2296622986b24a92bd0e1f2723b73.jpg (deflated 13%)\n",
            "  adding: content/Sneaker_head/6bb0fec28a14d9b2d59de65c4caaaac9.jpg (deflated 10%)\n",
            "  adding: content/Sneaker_head/1ef0053b691d0f29bbda9472a3bf2b9e.jpg (deflated 4%)\n",
            "  adding: content/Sneaker_head/96de44e0e62df88149da10cddd3f8cc0.jpg (deflated 14%)\n",
            "  adding: content/Sneaker_head/1a7f2c6aeca14e31a1002e083f28ceff.jpg (deflated 5%)\n",
            "  adding: content/Sneaker_head/fec3fda6473cf8451895c8b878ff6054.jpg (deflated 5%)\n",
            "  adding: content/Sneaker_head/e6f447ed407dcc7cbcefab6b1c1592b2.jpg (deflated 5%)\n",
            "  adding: content/Sneaker_head/0340369fd0327a59cbda846e80e2406f.jpg (deflated 55%)\n",
            "  adding: content/Sneaker_head/703dfb57c4d70285c3599d0b9d60dbed.png (deflated 1%)\n",
            "  adding: content/Sneaker_head/f2977812d22ce84ad2ae0a9dcdf91f62.png (deflated 15%)\n",
            "  adding: content/Sneaker_head/3940a233a44d2be2987c60519f3dbc4d.jpg (deflated 4%)\n",
            "  adding: content/Sneaker_head/7cab7e22cb97d2d743831813f5d79947.jpg (deflated 18%)\n",
            "  adding: content/Sneaker_head/a6bbd6309e03c4244e0cde122f92cc07.jpg (deflated 9%)\n",
            "  adding: content/Sneaker_head/e764f9be25b913a7641afdb364bf99ae.jpg (deflated 4%)\n",
            "  adding: content/Sneaker_head/e60506ce90d77f0edc0354413ee6d4ca.jpg (deflated 5%)\n",
            "  adding: content/Sneaker_head/ac8b3744249cf38ec767019b11be638c.jpg (deflated 5%)\n",
            "  adding: content/Sneaker_head/cdb5f1a2c7f05c5974a552c5778f4cc0.jpg (deflated 6%)\n",
            "  adding: content/Sneaker_head/e2f289cb0b42f61614057932071192cf.jpg (deflated 5%)\n",
            "  adding: content/Sneaker_head/374c9fe2d4c4114a15c9247fa36f1498.jpg (deflated 6%)\n",
            "  adding: content/Sneaker_head/b3e7ead3f631ce93ed4e1a990ba34650.jpg (deflated 4%)\n",
            "  adding: content/Sneaker_head/113470616e0bdea3c1cf26e4726e74ad.jpg (deflated 3%)\n",
            "  adding: content/Sneaker_head/42d8a19f504087d55498310798071ab9.jpg (deflated 4%)\n",
            "  adding: content/Sneaker_head/8476d50c731de988e9928d85273bacbe.jpg (deflated 6%)\n",
            "  adding: content/Sneaker_head/c6f153f5300f8a69edc3588c4c273ec7.jpg (deflated 5%)\n",
            "  adding: content/Sneaker_head/322adad88d5a3b14999f6488b6432e2e.jpg (deflated 4%)\n",
            "  adding: content/Sneaker_head/cd43167f109e04d2fca38a563b396738.jpg (deflated 17%)\n",
            "  adding: content/Sneaker_head/e38d1ecbc2b52b34b0aa400c98bfabfd.png (deflated 1%)\n",
            "  adding: content/Sneaker_head/020eda1a0e43d69f5e277ff53d4e7f80.jpg (deflated 10%)\n",
            "  adding: content/Sneaker_head/5679a09de77a6224cb0356550562ea36.jpg (deflated 5%)\n",
            "  adding: content/Sneaker_head/e3af5ee61e59c98984627ca362e06a85.jpg (deflated 5%)\n",
            "  adding: content/Sneaker_head/f6835ccee135b87c956ec63c846bbf9c.jpg (deflated 5%)\n",
            "  adding: content/Sneaker_head/70d01471ac3c673250de0e7ed310fb54.jpg (deflated 4%)\n",
            "  adding: content/Sneaker_head/a02c7af022e7f71ce7f4fc74942df5b1.jpg (deflated 14%)\n",
            "  adding: content/Sneaker_head/90bb3bdcaeba017a2d13582409fed2ea.jpg (deflated 9%)\n",
            "  adding: content/Sneaker_head/5a7c813cc2e93e48079632e20797218f.jpg (deflated 5%)\n",
            "  adding: content/Sneaker_head/0526af02af56461a602c39157d73cefc.jpg (deflated 5%)\n",
            "  adding: content/Sneaker_head/df93ec1f7da8807e1df329fd22c88142.jpg (deflated 5%)\n",
            "  adding: content/Sneaker_head/74b7b7e9a9006205fed0ea567ef4db06.jpg (deflated 12%)\n",
            "  adding: content/Sneaker_head/0263e6d66aed90293e5f9c0d527ae5b0.png (deflated 4%)\n",
            "  adding: content/Sneaker_head/92e9a94257a353e552d3569cfd1ce05b.jpg (deflated 21%)\n",
            "  adding: content/Sneaker_head/d4a4c41f2825c2bbc4ddabd7ba615f54.jpg (deflated 5%)\n",
            "  adding: content/Sneaker_head/0ccb0c8227f81875a80b249e9d782003.png (deflated 2%)\n",
            "  adding: content/Sneaker_head/a80492ff0d7f3395b9ab4dfc479a1013.jpg (deflated 7%)\n",
            "  adding: content/Sneaker_head/81b99787ee9f8151b726fbe4ea9a277b.jpg (deflated 9%)\n",
            "  adding: content/Sneaker_head/8c9c7a8424019db21ff780e23ca7e8f2.jpg (deflated 43%)\n",
            "  adding: content/Sneaker_head/ea05e11b70d1baefae7f99b5540d8c64.jpg (deflated 5%)\n",
            "  adding: content/Sneaker_head/a84e86101ab3f846374c3c1a5f0a5e72.jpg (deflated 8%)\n",
            "  adding: content/Sneaker_head/ebe9990363604d5eed40ae6aefd2b79f.jpg (deflated 5%)\n",
            "  adding: content/Sneaker_head/a3f55405e205f988fdea042e57949c54.jpg (deflated 8%)\n",
            "  adding: content/Sneaker_head/3cb93ccddb9a10f214f31682b449a0a5.jpg (deflated 12%)\n",
            "  adding: content/Sneaker_head/0901c92479e6685730084de26e092cd0.jpg (deflated 4%)\n",
            "  adding: content/Sneaker_head/5a97a4aa12c5aa21a95e6d121608834a.jpg (deflated 4%)\n",
            "  adding: content/Sneaker_head/127c94a71a7ae19059d2cf3615338a22.jpg (deflated 5%)\n",
            "  adding: content/Sneaker_head/035375c0110127764d57e3cb0a249414.jpg (deflated 13%)\n",
            "  adding: content/Sneaker_head/d962be6759374afd941f3c3980b341aa.jpg (deflated 5%)\n",
            "  adding: content/Sneaker_head/99396cc85e8174e9c6cb6b8777854d00.jpg (deflated 6%)\n",
            "  adding: content/Sneaker_head/c26d70ce397c3895f74d76b6addcbf5f.jpg (deflated 6%)\n",
            "  adding: content/Sneaker_head/1fde0d8ca8fe3528ac72b3154be0eb38.jpg (deflated 9%)\n",
            "  adding: content/Sneaker_head/79047551aae98cb5781a40184db0f2e8.jpg (deflated 22%)\n",
            "  adding: content/Sneaker_head/6c56f44133250e00045cd16c19fbee79.jpg (deflated 3%)\n",
            "  adding: content/Sneaker_head/b92f1fc06eb19b3e18733882e8c1862c.jpg (deflated 8%)\n",
            "  adding: content/Sneaker_head/2c4429b7b94b725510e6ff5e10967c6c.jpg (deflated 3%)\n",
            "  adding: content/Sneaker_head/793ab48642066e158453936c0c54833f.png (deflated 6%)\n",
            "  adding: content/Sneaker_head/46d460ba374bddb6122eadb7d44e12ba.jpg (deflated 4%)\n",
            "  adding: content/Sneaker_head/987be2e20ddabc53283de5ed2085554e.jpg (deflated 4%)\n",
            "  adding: content/Sneaker_head/ab426775ab4a968319abd2522a1df38d.jpg (deflated 6%)\n",
            "  adding: content/Sneaker_head/08864fea4fc18a3c7aea365475e51294.png (deflated 2%)\n",
            "  adding: content/Sneaker_head/ebe63cac7bdd521138a45c78737188ff.jpg (deflated 30%)\n",
            "  adding: content/Sneaker_head/ce6882a721d58b914cafc9837ff2ac85.jpg (deflated 8%)\n",
            "  adding: content/Sneaker_head/ec08df734222714dcc620ec0e2519030.jpg (deflated 5%)\n",
            "  adding: content/Sneaker_head/231b2999cb770d345885fdbab6718c85.jpg (deflated 5%)\n",
            "  adding: content/Sneaker_head/b2f986b2c9bd61452c4ce2a1a84adab2.jpg (deflated 5%)\n",
            "  adding: content/Sneaker_head/9d02cb8e8ea5e8a12a7de0ff0a65c9aa.jpg (deflated 6%)\n",
            "  adding: content/Sneaker_head/f081ee14e19a278d35b82a532a7a805c.webp (deflated 0%)\n",
            "  adding: content/Sneaker_head/604adbe0482b2e818e03aeefdcc2c585.jpg (deflated 6%)\n",
            "  adding: content/Sneaker_head/372d7562df8234b99700c1e9a79cd0e5.jpg (deflated 4%)\n",
            "  adding: content/Sneaker_head/b4cc66a8349540f892eb4eafdd513128.jpg (deflated 10%)\n",
            "  adding: content/Sneaker_head/9a4cd316e07d213f8346477f3250b5a7.jpg (deflated 7%)\n",
            "  adding: content/Sneaker_head/cba9513fca20d1b34e194a4931864bbc.jpg (deflated 7%)\n",
            "  adding: content/Sneaker_head/26ae54f6f8b2d03d05c0b4b5d233a617.jpg (deflated 5%)\n",
            "  adding: content/Sneaker_head/38e3919d49f70462146362caf348182d.jpg (deflated 7%)\n",
            "  adding: content/Sneaker_head/71cd47483db34f18463055bd4b487d3d.jpg (deflated 3%)\n",
            "  adding: content/Sneaker_head/937688cc36c44f4dd856b9baa2e17d04.jpg (deflated 5%)\n",
            "  adding: content/Sneaker_head/2111ae06ea5dd743f99803f9001b174a.jpg (deflated 7%)\n",
            "  adding: content/Sneaker_head/841e94f241fd6c834f3c4372affed64f.jpg (deflated 11%)\n",
            "  adding: content/Sneaker_head/795fb651b913ace28b9acccdafe5adcc.jpg (deflated 4%)\n",
            "  adding: content/Sneaker_head/3bcd37d1f50d3d3e36ea9b44305a9866.jpg (deflated 5%)\n",
            "  adding: content/Sneaker_head/15b372ea3bb3fea5e2434cb9c07b5eae.jpg (deflated 4%)\n",
            "  adding: content/Sneaker_head/3367520faf9beb19b59cb45e53664e5f.jpg (deflated 11%)\n",
            "  adding: content/Sneaker_head/d4ed0953eaabb06ca969b554d5cbe3ed.jpg (deflated 5%)\n",
            "  adding: content/Sneaker_head/8fbc2260e4dafb941c8458f1aef75373.png (deflated 4%)\n",
            "  adding: content/Sneaker_head/a7964eee012002332e20d979d6c36efa.jpg (deflated 14%)\n",
            "  adding: content/Sneaker_head/0ed14658bcd730081c79a5224bfb4100.jpg (deflated 6%)\n",
            "  adding: content/Sneaker_head/94016fbe78cf3d1ce7fb611b4368fda9.webp (deflated 0%)\n",
            "  adding: content/Sneaker_head/86aceaccb6e388ee7357f20f4aaf70bc.jpg (deflated 7%)\n",
            "  adding: content/Sneaker_head/0dc28e1398077696ebbcf8a55cdc31c5.jpg (deflated 4%)\n",
            "  adding: content/Sneaker_head/d257cad670a063f0bee5a911c0a777b1.jpg (deflated 5%)\n",
            "  adding: content/Sneaker_head/ee025fa3513fa4ab7d8af79ad561091a.jpg (deflated 5%)\n",
            "  adding: content/Sneaker_head/2741828ffd929c4a2ee512038858ae11.jpg (deflated 3%)\n",
            "  adding: content/Sneaker_head/9b7123047b8aca937704dc127b956c4c.jpg (deflated 10%)\n",
            "  adding: content/Sneaker_head/e98159c20fbf45c92165c4acb1bcbd57.jpg (deflated 5%)\n",
            "  adding: content/Sneaker_head/5b386a9435aff8ab5344e640db9afc14.jpg (deflated 21%)\n",
            "  adding: content/Sneaker_head/e32828ff61f467376044e9ceb4cc78af.jpg (deflated 4%)\n",
            "  adding: content/Sneaker_head/2ebb1b01031c655c94f1c8c82908f07e.jpg (deflated 15%)\n",
            "  adding: content/Sneaker_head/72f4560df1e0b0b9f17a5076ec0aad32.jpg (deflated 7%)\n",
            "  adding: content/Sneaker_head/32ce8db759be93b67c326dd00e7271f3.jpg (deflated 7%)\n",
            "  adding: content/Sneaker_head/ddea343cf266c5699d7ecfd84bf02430.jpg (deflated 5%)\n",
            "  adding: content/Sneaker_head/5215317d3f9ce5f7d2b7bdd338e9d660.jpg (deflated 4%)\n",
            "  adding: content/Sneaker_head/6d76a1fa42c6db6bf169e44b98647bc9.jpg (deflated 6%)\n",
            "  adding: content/Sneaker_head/f0b846469795b8228150190c9fa542c8.jpg (deflated 5%)\n",
            "  adding: content/Sneaker_head/9cfee0cac2978e1ed1e6a5f92c7e82d2.png (deflated 1%)\n",
            "  adding: content/Sneaker_head/874a09f7f7caefefd7149fd65ba3a51f.jpg (deflated 10%)\n",
            "  adding: content/Sneaker_head/27a17b2a9f8a6ba239a972c86461ca4e.jpg (deflated 6%)\n",
            "  adding: content/Sneaker_head/706fbac20e0d11b48c1459e052ab2d4c.jpg (deflated 4%)\n",
            "  adding: content/Sneaker_head/73b3efd931295d18ed7a70675fd1e7f9.jpg (deflated 6%)\n",
            "  adding: content/Sneaker_head/8333ff418edc11b09b2158c15591afad.jpg (deflated 5%)\n",
            "  adding: content/Sneaker_head/cd41931985017764f4d339d9067f6dc3.jpg (deflated 6%)\n",
            "  adding: content/Sneaker_head/f8bbea9b80eed61e05c77965a9f58180.jpg (deflated 7%)\n",
            "  adding: content/Sneaker_head/d5177619f36c794b2befd082497a883f.jpg (deflated 5%)\n",
            "  adding: content/Sneaker_head/2172dc96fb042a88ac96be4dcf3ed397.jpg (deflated 7%)\n",
            "  adding: content/Sneaker_head/f1324f234cc5045a434a1794aef9283f.jpg (deflated 6%)\n",
            "  adding: content/Sneaker_head/928f28d3aa7fdcd4e252ad7232ec6eb6.jpg (deflated 5%)\n",
            "  adding: content/Sneaker_head/e0388cbf2a908ec8d26f2e57921de3c0.jpg (deflated 4%)\n",
            "  adding: content/Sneaker_head/b150dcfe0b2101cb734106a7de208ee7.jpg (deflated 4%)\n",
            "  adding: content/Sneaker_head/6430163961fd2aa1edd389c392e0df70.jpg (deflated 13%)\n",
            "  adding: content/Sneaker_head/ca0a3fd0c27ba6488b56bf2747ed2fd7.png (deflated 1%)\n",
            "  adding: content/Sneaker_head/199ff5b383902ad10f8e638cfa08bb3c.jpg (deflated 15%)\n",
            "  adding: content/Sneaker_head/2090757e0ba64d19caec5957d5b16937.jpg (deflated 5%)\n",
            "  adding: content/Sneaker_head/eb5c70749fc286cabf485399bfe74d9b.jpg (deflated 8%)\n",
            "  adding: content/Sneaker_head/6b7b1b1f6de12265b4e93e36cfefd8c3.jpg (deflated 8%)\n",
            "  adding: content/Sneaker_head/4adcaef4ae719895796a0574f01e4b26.jpg (deflated 4%)\n",
            "  adding: content/Sneaker_head/ae4ee67028301451b4ca55dece5037d5.jpg (deflated 6%)\n",
            "  adding: content/Sneaker_head/d2dca3e9cef86de1ec06a581ce77eba3.jpg (deflated 3%)\n",
            "  adding: content/Sneaker_head/4f1276519d94c793d0a340125e1731e6.jpg (deflated 3%)\n",
            "  adding: content/Sneaker_head/37c0e08c1ad33c70e4b1ef39d176b0b5.jpg (deflated 6%)\n",
            "  adding: content/Sneaker_head/1cb19dcaf0eda20ee401bbf00536f17f.jpg (deflated 9%)\n",
            "  adding: content/Sneaker_head/ecb6f1cc1c915c908483bef754743b51.jpg (deflated 5%)\n",
            "  adding: content/Sneaker_head/65bac5b84d1d5db7875f94f620523e10.jpg (deflated 5%)\n",
            "  adding: content/Sneaker_head/93c6a810c39bb51a8c5251463a03954b.png (deflated 2%)\n",
            "  adding: content/Sneaker_head/bbc94674bfac5d5c1ba527b1055701ee.jpg (deflated 14%)\n",
            "  adding: content/Sneaker_head/7b330d3418627e04e8be7bb57353fb34.jpg (deflated 7%)\n",
            "  adding: content/Sneaker_head/cdead21fc6df5da3a4c4358caec90e02.jpg (deflated 4%)\n",
            "  adding: content/Sneaker_head/c498060b41ca898bd85ac344e66c971a.jpg (deflated 5%)\n",
            "  adding: content/Sneaker_head/7379e8bc1767f8cc6a54d8b97632df78.jpg (deflated 7%)\n",
            "  adding: content/Sneaker_head/52d02312d2825f4f2a2fe420baabdfba.jpg (deflated 5%)\n",
            "  adding: content/Sneaker_head/db46f749ca9505c7e49b59990e265c04.jpg (deflated 4%)\n",
            "  adding: content/Sneaker_head/ac10b778c45b130500224f70851a7a57.png (deflated 11%)\n",
            "  adding: content/Sneaker_head/08ea96a46f1d9df6e30e36c5bb8a18ec.jpg (deflated 19%)\n",
            "  adding: content/Sneaker_head/5d58d411788d1e6b61a6815accdfccb7.jpg (deflated 14%)\n",
            "  adding: content/Sneaker_head/4f08f81c3a5aee7373a4301cf13c80c1.jpg (deflated 8%)\n",
            "  adding: content/Sneaker_head/d2f719d076e26ff6f58c2cbdc0121e35.jpg (deflated 4%)\n",
            "  adding: content/Sneaker_head/7169e3fb41e62983c123635641d5232a.png (deflated 1%)\n",
            "  adding: content/Sneaker_head/662eac35396fd038152f25170734a0c9.jpg (deflated 6%)\n",
            "  adding: content/Sneaker_head/ecf46a08aa74a39439546c662567f26e.jpg (deflated 5%)\n",
            "  adding: content/Sneaker_head/d7adbf4f34266b7348630fd5d2a9459e.jpg (deflated 6%)\n",
            "  adding: content/Sneaker_head/cf2945619906168ac4c13d248c20a24f.jpg (deflated 8%)\n",
            "  adding: content/Sneaker_head/3f8b7c5a65fc9ebf30167a0a9bfdac23.jpg (deflated 6%)\n",
            "  adding: content/Sneaker_head/967e4a55a4a59a2a01a89d12fb124590.jpg (deflated 6%)\n"
          ]
        }
      ]
    },
    {
      "cell_type": "code",
      "source": [
        "from google.colab import files\n",
        "files.download(\"/content/sneakers.zip\")"
      ],
      "metadata": {
        "colab": {
          "base_uri": "https://localhost:8080/",
          "height": 17
        },
        "id": "JGYx5e52iOlo",
        "outputId": "ed3641c7-c73b-41e9-d812-7178df75724c"
      },
      "execution_count": 8,
      "outputs": [
        {
          "output_type": "display_data",
          "data": {
            "text/plain": [
              "<IPython.core.display.Javascript object>"
            ],
            "application/javascript": [
              "\n",
              "    async function download(id, filename, size) {\n",
              "      if (!google.colab.kernel.accessAllowed) {\n",
              "        return;\n",
              "      }\n",
              "      const div = document.createElement('div');\n",
              "      const label = document.createElement('label');\n",
              "      label.textContent = `Downloading \"${filename}\": `;\n",
              "      div.appendChild(label);\n",
              "      const progress = document.createElement('progress');\n",
              "      progress.max = size;\n",
              "      div.appendChild(progress);\n",
              "      document.body.appendChild(div);\n",
              "\n",
              "      const buffers = [];\n",
              "      let downloaded = 0;\n",
              "\n",
              "      const channel = await google.colab.kernel.comms.open(id);\n",
              "      // Send a message to notify the kernel that we're ready.\n",
              "      channel.send({})\n",
              "\n",
              "      for await (const message of channel.messages) {\n",
              "        // Send a message to notify the kernel that we're ready.\n",
              "        channel.send({})\n",
              "        if (message.buffers) {\n",
              "          for (const buffer of message.buffers) {\n",
              "            buffers.push(buffer);\n",
              "            downloaded += buffer.byteLength;\n",
              "            progress.value = downloaded;\n",
              "          }\n",
              "        }\n",
              "      }\n",
              "      const blob = new Blob(buffers, {type: 'application/binary'});\n",
              "      const a = document.createElement('a');\n",
              "      a.href = window.URL.createObjectURL(blob);\n",
              "      a.download = filename;\n",
              "      div.appendChild(a);\n",
              "      a.click();\n",
              "      div.remove();\n",
              "    }\n",
              "  "
            ]
          },
          "metadata": {}
        },
        {
          "output_type": "display_data",
          "data": {
            "text/plain": [
              "<IPython.core.display.Javascript object>"
            ],
            "application/javascript": [
              "download(\"download_bb92dd50-723b-4631-93c6-c3119e89db76\", \"sneakers.zip\", 71229419)"
            ]
          },
          "metadata": {}
        }
      ]
    }
  ]
}